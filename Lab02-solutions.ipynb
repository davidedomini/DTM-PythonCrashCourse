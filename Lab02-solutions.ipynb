{
 "cells": [
  {
   "cell_type": "markdown",
   "id": "c3765bdb-177b-4737-a277-1ddb5cdf4c15",
   "metadata": {},
   "source": [
    "# Digital Transformation Management - Programming with Python"
   ]
  },
  {
   "cell_type": "markdown",
   "id": "f9811439-8152-41b4-934e-2ee7594dc5ca",
   "metadata": {},
   "source": [
    "## Advanced Data Structures - Sets"
   ]
  },
  {
   "cell_type": "markdown",
   "id": "c9d80b4b-56ea-433d-ae5c-af94fced0881",
   "metadata": {},
   "source": [
    "**Exercise 0**\n",
    "\n",
    "Write a python function that, using set comprehension, returns a set containing integers from n1 to n2"
   ]
  },
  {
   "cell_type": "code",
   "execution_count": 1,
   "id": "097c0dc8-6bba-42a4-8fb2-69ba42197124",
   "metadata": {},
   "outputs": [],
   "source": [
    "def create_list(n1, n2):\n",
    "    return [x for x in range(n1,n2)]"
   ]
  },
  {
   "cell_type": "markdown",
   "id": "4d79b99e-5835-4d96-b6d7-873f327f1bea",
   "metadata": {},
   "source": [
    "**Exercise 1**\n",
    "\n",
    "Using the function implemented in exercise 0, create:\n",
    "- a variable 's1' that contains numbers from 0 to 20\n",
    "- a variable 's2' that contains numbers from 10 to 50"
   ]
  },
  {
   "cell_type": "code",
   "execution_count": 4,
   "id": "7af152d3-50ae-43c3-9e53-ca118108a4a5",
   "metadata": {},
   "outputs": [
    {
     "name": "stdout",
     "output_type": "stream",
     "text": [
      "[0, 1, 2, 3, 4, 5, 6, 7, 8, 9, 10, 11, 12, 13, 14, 15, 16, 17, 18, 19] \n",
      " [10, 11, 12, 13, 14, 15, 16, 17, 18, 19, 20, 21, 22, 23, 24, 25, 26, 27, 28, 29, 30, 31, 32, 33, 34, 35, 36, 37, 38, 39, 40, 41, 42, 43, 44, 45, 46, 47, 48, 49]\n"
     ]
    }
   ],
   "source": [
    "s1 = create_list(0, 20)\n",
    "s2 = create_list(10, 50)\n",
    "print(s1, '\\n', s2)"
   ]
  },
  {
   "cell_type": "markdown",
   "id": "3401e4f9-ebf9-4b6d-8105-1151d8a08fbe",
   "metadata": {},
   "source": [
    "**Exercise 2**\n",
    "\n",
    "Write a python program that, given s1 and s2, computes:\n",
    "- The intersection\n",
    "- The union\n",
    "- The difference\n",
    "- The symmetric difference"
   ]
  },
  {
   "cell_type": "code",
   "execution_count": 6,
   "id": "1f4e89ea-c440-43f4-bc97-bca4e192eb83",
   "metadata": {},
   "outputs": [
    {
     "name": "stdout",
     "output_type": "stream",
     "text": [
      "{10, 11, 12, 13, 14, 15, 16, 17, 18, 19}\n",
      "{0, 1, 2, 3, 4, 5, 6, 7, 8, 9, 10, 11, 12, 13, 14, 15, 16, 17, 18, 19, 20, 21, 22, 23, 24, 25, 26, 27, 28, 29, 30, 31, 32, 33, 34, 35, 36, 37, 38, 39, 40, 41, 42, 43, 44, 45, 46, 47, 48, 49}\n",
      "{0, 1, 2, 3, 4, 5, 6, 7, 8, 9}\n",
      "{0, 1, 2, 3, 4, 5, 6, 7, 8, 9, 20, 21, 22, 23, 24, 25, 26, 27, 28, 29, 30, 31, 32, 33, 34, 35, 36, 37, 38, 39, 40, 41, 42, 43, 44, 45, 46, 47, 48, 49}\n"
     ]
    }
   ],
   "source": [
    "s1 = set(s1)\n",
    "s2 = set(s2)\n",
    "print(s1.intersection(s2))\n",
    "print(s1.union(s2))\n",
    "print(s1.difference(s2))\n",
    "print(s1.symmetric_difference(s2))"
   ]
  },
  {
   "cell_type": "markdown",
   "id": "5007b2f3-c4a0-466c-863c-d4fbcba76f9e",
   "metadata": {},
   "source": [
    "## Advanced Data Structures - Dictionaries"
   ]
  },
  {
   "cell_type": "markdown",
   "id": "3b2ef92c-91b3-4e60-bb3e-439d34a9a8b7",
   "metadata": {},
   "source": [
    "**Exercise 1**\n",
    "\n",
    "Write a python function that takes a string as input and returns the frequency of each word"
   ]
  },
  {
   "cell_type": "code",
   "execution_count": 11,
   "id": "c5dac5fb-1286-41b5-bc6b-69519ce35a61",
   "metadata": {},
   "outputs": [],
   "source": [
    "def word_frequency(l):\n",
    "    f = {}\n",
    "    for word in l.split():\n",
    "        if(word in f.keys()):\n",
    "            f[word] += 1\n",
    "        else:\n",
    "            f[word] = 1\n",
    "    return f"
   ]
  },
  {
   "cell_type": "code",
   "execution_count": 12,
   "id": "745640ff-a093-40eb-853c-a8272fa77121",
   "metadata": {},
   "outputs": [
    {
     "data": {
      "text/plain": [
       "{'ciao': 2, 'come': 2, 'stai': 1}"
      ]
     },
     "execution_count": 12,
     "metadata": {},
     "output_type": "execute_result"
    }
   ],
   "source": [
    "word_frequency(\"ciao come stai ciao come\")"
   ]
  },
  {
   "cell_type": "markdown",
   "id": "133376fc-743f-433f-9f21-99bf81740c49",
   "metadata": {},
   "source": [
    "**Exercise 2**\n",
    "\n",
    "Write a python program that provides the user with the following features:\n",
    "- Add a new exam passed with the related grade\n",
    "- Check if a specified exam is already present\n",
    "- Compute the average grade"
   ]
  },
  {
   "cell_type": "code",
   "execution_count": 18,
   "id": "ae7f28b7-26f0-4c9b-b542-7e2a6af2774d",
   "metadata": {},
   "outputs": [],
   "source": [
    "def add_exam(db, name, grade):\n",
    "    db[name] = grade\n",
    "    return db\n",
    "\n",
    "def check_exam(db, name):\n",
    "    return name in db.keys()\n",
    "\n",
    "def compute_avg(db):\n",
    "    return sum(db.values())/len(db.values())"
   ]
  },
  {
   "cell_type": "code",
   "execution_count": 19,
   "id": "63b2f557-6b60-4596-ae2b-eb0ecbf582ad",
   "metadata": {},
   "outputs": [
    {
     "name": "stdin",
     "output_type": "stream",
     "text": [
      "\n",
      "1--> Add new exam \n",
      "2--> Check exam \n",
      "3--> Compute average grade\n",
      "4--> Exit\n",
      "Choose an action:\n",
      " 1\n",
      "Insert exam name: oop\n",
      "Insert grade: 30\n"
     ]
    },
    {
     "name": "stdout",
     "output_type": "stream",
     "text": [
      "{'oop': 30}\n"
     ]
    },
    {
     "name": "stdin",
     "output_type": "stream",
     "text": [
      "\n",
      "1--> Add new exam \n",
      "2--> Check exam \n",
      "3--> Compute average grade\n",
      "4--> Exit\n",
      "Choose an action:\n",
      " 1\n",
      "Insert exam name: lss\n",
      "Insert grade: 26\n"
     ]
    },
    {
     "name": "stdout",
     "output_type": "stream",
     "text": [
      "{'oop': 30, 'lss': 26}\n"
     ]
    },
    {
     "name": "stdin",
     "output_type": "stream",
     "text": [
      "\n",
      "1--> Add new exam \n",
      "2--> Check exam \n",
      "3--> Compute average grade\n",
      "4--> Exit\n",
      "Choose an action:\n",
      " 3\n"
     ]
    },
    {
     "name": "stdout",
     "output_type": "stream",
     "text": [
      "28.0\n"
     ]
    },
    {
     "name": "stdin",
     "output_type": "stream",
     "text": [
      "\n",
      "1--> Add new exam \n",
      "2--> Check exam \n",
      "3--> Compute average grade\n",
      "4--> Exit\n",
      "Choose an action:\n",
      " 4\n"
     ]
    }
   ],
   "source": [
    "exit = False\n",
    "db = {}\n",
    "while not exit:\n",
    "    a = int(input(\n",
    "\"\"\"\n",
    "1--> Add new exam \n",
    "2--> Check exam \n",
    "3--> Compute average grade\n",
    "4--> Exit\n",
    "Choose an action:\n",
    "\"\"\"))\n",
    "    if a == 1:\n",
    "        name = input(\"Insert exam name:\")\n",
    "        grade = int(input(\"Insert grade:\"))\n",
    "        db = add_exam(db, name, grade)\n",
    "        print(db)\n",
    "    elif a == 2:\n",
    "        name = input(\"Insert exam name:\")\n",
    "        f = check_exam(db, name)\n",
    "        print(f)\n",
    "    elif a == 3:\n",
    "        avg = compute_avg(db)\n",
    "        print(avg)\n",
    "    else:\n",
    "        exit = True"
   ]
  },
  {
   "cell_type": "markdown",
   "id": "e4b84fbf-1dfc-494b-a57e-930f131a1c26",
   "metadata": {},
   "source": [
    "## More exercises"
   ]
  },
  {
   "cell_type": "markdown",
   "id": "a20382ab-0aeb-4045-9ecf-08ac9ec70ceb",
   "metadata": {},
   "source": [
    "**Exercise 1**\n",
    "\n",
    "Create, by using list comprehension, the following list of integer numbers: the cubes of numbers n from 0 to 200 such that n is prime"
   ]
  },
  {
   "cell_type": "code",
   "execution_count": 20,
   "id": "032092c2-574d-45b3-93dd-baf3a9718945",
   "metadata": {},
   "outputs": [],
   "source": [
    "import math\n",
    "def is_prime(a):\n",
    "    bound = math.ceil(math.sqrt(a))\n",
    "    for i in range(2, bound):\n",
    "        if a % i == 0:\n",
    "            return False\n",
    "    return True"
   ]
  },
  {
   "cell_type": "code",
   "execution_count": 21,
   "id": "d1e05334-1a2a-4408-b7d8-e43753e12015",
   "metadata": {},
   "outputs": [
    {
     "data": {
      "text/plain": [
       "[0,\n",
       " 1,\n",
       " 8,\n",
       " 27,\n",
       " 64,\n",
       " 125,\n",
       " 343,\n",
       " 729,\n",
       " 1331,\n",
       " 2197,\n",
       " 4913,\n",
       " 6859,\n",
       " 12167,\n",
       " 15625,\n",
       " 24389,\n",
       " 29791,\n",
       " 50653,\n",
       " 68921,\n",
       " 79507,\n",
       " 103823,\n",
       " 117649,\n",
       " 148877,\n",
       " 205379,\n",
       " 226981,\n",
       " 300763,\n",
       " 357911,\n",
       " 389017,\n",
       " 493039,\n",
       " 571787,\n",
       " 704969,\n",
       " 912673,\n",
       " 1030301,\n",
       " 1092727,\n",
       " 1225043,\n",
       " 1295029,\n",
       " 1442897,\n",
       " 1771561,\n",
       " 2048383,\n",
       " 2248091,\n",
       " 2571353,\n",
       " 2685619,\n",
       " 3307949,\n",
       " 3442951,\n",
       " 3869893,\n",
       " 4330747,\n",
       " 4657463,\n",
       " 4826809,\n",
       " 5177717,\n",
       " 5735339,\n",
       " 5929741,\n",
       " 6967871,\n",
       " 7189057,\n",
       " 7645373,\n",
       " 7880599]"
      ]
     },
     "execution_count": 21,
     "metadata": {},
     "output_type": "execute_result"
    }
   ],
   "source": [
    "[n**3 for n in range(200) if is_prime(n)]"
   ]
  },
  {
   "cell_type": "markdown",
   "id": "c04f682f-9bf2-4607-9873-f7210b677853",
   "metadata": {},
   "source": [
    "**Exercise 2**\n",
    "\n",
    "Write a Python function called calculate that takes two lists of integer numbers as parameters. The function must return a list of tuples (n1, n2) with the same length of the input lists, where:\n",
    "- n1 is the sum of the corresponding numbers in the lists\n",
    "- n2 is the product of the corresponding numbers in the lists\n",
    "\n",
    "For example: calculate([2, 1, 3],[-3, 2, 5]) --> [(-1, -6), (3, 2), (8, 15)]"
   ]
  },
  {
   "cell_type": "code",
   "execution_count": 23,
   "id": "93cf60d6-785e-42bd-9bd4-2f1802bd778a",
   "metadata": {},
   "outputs": [
    {
     "data": {
      "text/plain": [
       "[(-1, -6), (3, 2), (8, 15)]"
      ]
     },
     "execution_count": 23,
     "metadata": {},
     "output_type": "execute_result"
    }
   ],
   "source": [
    "def calculate(l1,l2):\n",
    "    return [(x+y, x*y) for x,y in zip(l1,l2)]\n",
    "\n",
    "calculate([2, 1, 3],[-3, 2, 5])"
   ]
  },
  {
   "cell_type": "markdown",
   "id": "06f75a4a-c144-45c3-ab74-fa27f497a020",
   "metadata": {},
   "source": [
    "**Exercise 3**\n",
    "\n",
    "Create, by using set comprehension, the following set of strings: strings inlcuding n \"a\" characters with n raning from 5 to 250 and being such that n is multiple of 5. \n",
    "The strings contained in the set are: 'aaaaa', 'aaaaaaaaaa', ..."
   ]
  },
  {
   "cell_type": "code",
   "execution_count": 24,
   "id": "be932f9f-5f90-4a77-b6fc-7cd92fa4707d",
   "metadata": {},
   "outputs": [
    {
     "data": {
      "text/plain": [
       "['aaaaa',\n",
       " 'aaaaaaaaaa',\n",
       " 'aaaaaaaaaaaaaaa',\n",
       " 'aaaaaaaaaaaaaaaaaaaa',\n",
       " 'aaaaaaaaaaaaaaaaaaaaaaaaa',\n",
       " 'aaaaaaaaaaaaaaaaaaaaaaaaaaaaaa',\n",
       " 'aaaaaaaaaaaaaaaaaaaaaaaaaaaaaaaaaaa',\n",
       " 'aaaaaaaaaaaaaaaaaaaaaaaaaaaaaaaaaaaaaaaa',\n",
       " 'aaaaaaaaaaaaaaaaaaaaaaaaaaaaaaaaaaaaaaaaaaaaa',\n",
       " 'aaaaaaaaaaaaaaaaaaaaaaaaaaaaaaaaaaaaaaaaaaaaaaaaaa',\n",
       " 'aaaaaaaaaaaaaaaaaaaaaaaaaaaaaaaaaaaaaaaaaaaaaaaaaaaaaaa',\n",
       " 'aaaaaaaaaaaaaaaaaaaaaaaaaaaaaaaaaaaaaaaaaaaaaaaaaaaaaaaaaaaa',\n",
       " 'aaaaaaaaaaaaaaaaaaaaaaaaaaaaaaaaaaaaaaaaaaaaaaaaaaaaaaaaaaaaaaaaa',\n",
       " 'aaaaaaaaaaaaaaaaaaaaaaaaaaaaaaaaaaaaaaaaaaaaaaaaaaaaaaaaaaaaaaaaaaaaaa',\n",
       " 'aaaaaaaaaaaaaaaaaaaaaaaaaaaaaaaaaaaaaaaaaaaaaaaaaaaaaaaaaaaaaaaaaaaaaaaaaaa',\n",
       " 'aaaaaaaaaaaaaaaaaaaaaaaaaaaaaaaaaaaaaaaaaaaaaaaaaaaaaaaaaaaaaaaaaaaaaaaaaaaaaaaa',\n",
       " 'aaaaaaaaaaaaaaaaaaaaaaaaaaaaaaaaaaaaaaaaaaaaaaaaaaaaaaaaaaaaaaaaaaaaaaaaaaaaaaaaaaaaa',\n",
       " 'aaaaaaaaaaaaaaaaaaaaaaaaaaaaaaaaaaaaaaaaaaaaaaaaaaaaaaaaaaaaaaaaaaaaaaaaaaaaaaaaaaaaaaaaaa',\n",
       " 'aaaaaaaaaaaaaaaaaaaaaaaaaaaaaaaaaaaaaaaaaaaaaaaaaaaaaaaaaaaaaaaaaaaaaaaaaaaaaaaaaaaaaaaaaaaaaaa',\n",
       " 'aaaaaaaaaaaaaaaaaaaaaaaaaaaaaaaaaaaaaaaaaaaaaaaaaaaaaaaaaaaaaaaaaaaaaaaaaaaaaaaaaaaaaaaaaaaaaaaaaaaa',\n",
       " 'aaaaaaaaaaaaaaaaaaaaaaaaaaaaaaaaaaaaaaaaaaaaaaaaaaaaaaaaaaaaaaaaaaaaaaaaaaaaaaaaaaaaaaaaaaaaaaaaaaaaaaaaa',\n",
       " 'aaaaaaaaaaaaaaaaaaaaaaaaaaaaaaaaaaaaaaaaaaaaaaaaaaaaaaaaaaaaaaaaaaaaaaaaaaaaaaaaaaaaaaaaaaaaaaaaaaaaaaaaaaaaaa',\n",
       " 'aaaaaaaaaaaaaaaaaaaaaaaaaaaaaaaaaaaaaaaaaaaaaaaaaaaaaaaaaaaaaaaaaaaaaaaaaaaaaaaaaaaaaaaaaaaaaaaaaaaaaaaaaaaaaaaaaaa',\n",
       " 'aaaaaaaaaaaaaaaaaaaaaaaaaaaaaaaaaaaaaaaaaaaaaaaaaaaaaaaaaaaaaaaaaaaaaaaaaaaaaaaaaaaaaaaaaaaaaaaaaaaaaaaaaaaaaaaaaaaaaaaa',\n",
       " 'aaaaaaaaaaaaaaaaaaaaaaaaaaaaaaaaaaaaaaaaaaaaaaaaaaaaaaaaaaaaaaaaaaaaaaaaaaaaaaaaaaaaaaaaaaaaaaaaaaaaaaaaaaaaaaaaaaaaaaaaaaaaa',\n",
       " 'aaaaaaaaaaaaaaaaaaaaaaaaaaaaaaaaaaaaaaaaaaaaaaaaaaaaaaaaaaaaaaaaaaaaaaaaaaaaaaaaaaaaaaaaaaaaaaaaaaaaaaaaaaaaaaaaaaaaaaaaaaaaaaaaaa',\n",
       " 'aaaaaaaaaaaaaaaaaaaaaaaaaaaaaaaaaaaaaaaaaaaaaaaaaaaaaaaaaaaaaaaaaaaaaaaaaaaaaaaaaaaaaaaaaaaaaaaaaaaaaaaaaaaaaaaaaaaaaaaaaaaaaaaaaaaaaaa',\n",
       " 'aaaaaaaaaaaaaaaaaaaaaaaaaaaaaaaaaaaaaaaaaaaaaaaaaaaaaaaaaaaaaaaaaaaaaaaaaaaaaaaaaaaaaaaaaaaaaaaaaaaaaaaaaaaaaaaaaaaaaaaaaaaaaaaaaaaaaaaaaaaa',\n",
       " 'aaaaaaaaaaaaaaaaaaaaaaaaaaaaaaaaaaaaaaaaaaaaaaaaaaaaaaaaaaaaaaaaaaaaaaaaaaaaaaaaaaaaaaaaaaaaaaaaaaaaaaaaaaaaaaaaaaaaaaaaaaaaaaaaaaaaaaaaaaaaaaaaa',\n",
       " 'aaaaaaaaaaaaaaaaaaaaaaaaaaaaaaaaaaaaaaaaaaaaaaaaaaaaaaaaaaaaaaaaaaaaaaaaaaaaaaaaaaaaaaaaaaaaaaaaaaaaaaaaaaaaaaaaaaaaaaaaaaaaaaaaaaaaaaaaaaaaaaaaaaaaaa',\n",
       " 'aaaaaaaaaaaaaaaaaaaaaaaaaaaaaaaaaaaaaaaaaaaaaaaaaaaaaaaaaaaaaaaaaaaaaaaaaaaaaaaaaaaaaaaaaaaaaaaaaaaaaaaaaaaaaaaaaaaaaaaaaaaaaaaaaaaaaaaaaaaaaaaaaaaaaaaaaaa',\n",
       " 'aaaaaaaaaaaaaaaaaaaaaaaaaaaaaaaaaaaaaaaaaaaaaaaaaaaaaaaaaaaaaaaaaaaaaaaaaaaaaaaaaaaaaaaaaaaaaaaaaaaaaaaaaaaaaaaaaaaaaaaaaaaaaaaaaaaaaaaaaaaaaaaaaaaaaaaaaaaaaaaa',\n",
       " 'aaaaaaaaaaaaaaaaaaaaaaaaaaaaaaaaaaaaaaaaaaaaaaaaaaaaaaaaaaaaaaaaaaaaaaaaaaaaaaaaaaaaaaaaaaaaaaaaaaaaaaaaaaaaaaaaaaaaaaaaaaaaaaaaaaaaaaaaaaaaaaaaaaaaaaaaaaaaaaaaaaaaa',\n",
       " 'aaaaaaaaaaaaaaaaaaaaaaaaaaaaaaaaaaaaaaaaaaaaaaaaaaaaaaaaaaaaaaaaaaaaaaaaaaaaaaaaaaaaaaaaaaaaaaaaaaaaaaaaaaaaaaaaaaaaaaaaaaaaaaaaaaaaaaaaaaaaaaaaaaaaaaaaaaaaaaaaaaaaaaaaaa',\n",
       " 'aaaaaaaaaaaaaaaaaaaaaaaaaaaaaaaaaaaaaaaaaaaaaaaaaaaaaaaaaaaaaaaaaaaaaaaaaaaaaaaaaaaaaaaaaaaaaaaaaaaaaaaaaaaaaaaaaaaaaaaaaaaaaaaaaaaaaaaaaaaaaaaaaaaaaaaaaaaaaaaaaaaaaaaaaaaaaaa',\n",
       " 'aaaaaaaaaaaaaaaaaaaaaaaaaaaaaaaaaaaaaaaaaaaaaaaaaaaaaaaaaaaaaaaaaaaaaaaaaaaaaaaaaaaaaaaaaaaaaaaaaaaaaaaaaaaaaaaaaaaaaaaaaaaaaaaaaaaaaaaaaaaaaaaaaaaaaaaaaaaaaaaaaaaaaaaaaaaaaaaaaaaa',\n",
       " 'aaaaaaaaaaaaaaaaaaaaaaaaaaaaaaaaaaaaaaaaaaaaaaaaaaaaaaaaaaaaaaaaaaaaaaaaaaaaaaaaaaaaaaaaaaaaaaaaaaaaaaaaaaaaaaaaaaaaaaaaaaaaaaaaaaaaaaaaaaaaaaaaaaaaaaaaaaaaaaaaaaaaaaaaaaaaaaaaaaaaaaaaa',\n",
       " 'aaaaaaaaaaaaaaaaaaaaaaaaaaaaaaaaaaaaaaaaaaaaaaaaaaaaaaaaaaaaaaaaaaaaaaaaaaaaaaaaaaaaaaaaaaaaaaaaaaaaaaaaaaaaaaaaaaaaaaaaaaaaaaaaaaaaaaaaaaaaaaaaaaaaaaaaaaaaaaaaaaaaaaaaaaaaaaaaaaaaaaaaaaaaaa',\n",
       " 'aaaaaaaaaaaaaaaaaaaaaaaaaaaaaaaaaaaaaaaaaaaaaaaaaaaaaaaaaaaaaaaaaaaaaaaaaaaaaaaaaaaaaaaaaaaaaaaaaaaaaaaaaaaaaaaaaaaaaaaaaaaaaaaaaaaaaaaaaaaaaaaaaaaaaaaaaaaaaaaaaaaaaaaaaaaaaaaaaaaaaaaaaaaaaaaaaaa',\n",
       " 'aaaaaaaaaaaaaaaaaaaaaaaaaaaaaaaaaaaaaaaaaaaaaaaaaaaaaaaaaaaaaaaaaaaaaaaaaaaaaaaaaaaaaaaaaaaaaaaaaaaaaaaaaaaaaaaaaaaaaaaaaaaaaaaaaaaaaaaaaaaaaaaaaaaaaaaaaaaaaaaaaaaaaaaaaaaaaaaaaaaaaaaaaaaaaaaaaaaaaaaa',\n",
       " 'aaaaaaaaaaaaaaaaaaaaaaaaaaaaaaaaaaaaaaaaaaaaaaaaaaaaaaaaaaaaaaaaaaaaaaaaaaaaaaaaaaaaaaaaaaaaaaaaaaaaaaaaaaaaaaaaaaaaaaaaaaaaaaaaaaaaaaaaaaaaaaaaaaaaaaaaaaaaaaaaaaaaaaaaaaaaaaaaaaaaaaaaaaaaaaaaaaaaaaaaaaaaa',\n",
       " 'aaaaaaaaaaaaaaaaaaaaaaaaaaaaaaaaaaaaaaaaaaaaaaaaaaaaaaaaaaaaaaaaaaaaaaaaaaaaaaaaaaaaaaaaaaaaaaaaaaaaaaaaaaaaaaaaaaaaaaaaaaaaaaaaaaaaaaaaaaaaaaaaaaaaaaaaaaaaaaaaaaaaaaaaaaaaaaaaaaaaaaaaaaaaaaaaaaaaaaaaaaaaaaaaaa',\n",
       " 'aaaaaaaaaaaaaaaaaaaaaaaaaaaaaaaaaaaaaaaaaaaaaaaaaaaaaaaaaaaaaaaaaaaaaaaaaaaaaaaaaaaaaaaaaaaaaaaaaaaaaaaaaaaaaaaaaaaaaaaaaaaaaaaaaaaaaaaaaaaaaaaaaaaaaaaaaaaaaaaaaaaaaaaaaaaaaaaaaaaaaaaaaaaaaaaaaaaaaaaaaaaaaaaaaaaaaaa',\n",
       " 'aaaaaaaaaaaaaaaaaaaaaaaaaaaaaaaaaaaaaaaaaaaaaaaaaaaaaaaaaaaaaaaaaaaaaaaaaaaaaaaaaaaaaaaaaaaaaaaaaaaaaaaaaaaaaaaaaaaaaaaaaaaaaaaaaaaaaaaaaaaaaaaaaaaaaaaaaaaaaaaaaaaaaaaaaaaaaaaaaaaaaaaaaaaaaaaaaaaaaaaaaaaaaaaaaaaaaaaaaaaa',\n",
       " 'aaaaaaaaaaaaaaaaaaaaaaaaaaaaaaaaaaaaaaaaaaaaaaaaaaaaaaaaaaaaaaaaaaaaaaaaaaaaaaaaaaaaaaaaaaaaaaaaaaaaaaaaaaaaaaaaaaaaaaaaaaaaaaaaaaaaaaaaaaaaaaaaaaaaaaaaaaaaaaaaaaaaaaaaaaaaaaaaaaaaaaaaaaaaaaaaaaaaaaaaaaaaaaaaaaaaaaaaaaaaaaaaa',\n",
       " 'aaaaaaaaaaaaaaaaaaaaaaaaaaaaaaaaaaaaaaaaaaaaaaaaaaaaaaaaaaaaaaaaaaaaaaaaaaaaaaaaaaaaaaaaaaaaaaaaaaaaaaaaaaaaaaaaaaaaaaaaaaaaaaaaaaaaaaaaaaaaaaaaaaaaaaaaaaaaaaaaaaaaaaaaaaaaaaaaaaaaaaaaaaaaaaaaaaaaaaaaaaaaaaaaaaaaaaaaaaaaaaaaaaaaaa',\n",
       " 'aaaaaaaaaaaaaaaaaaaaaaaaaaaaaaaaaaaaaaaaaaaaaaaaaaaaaaaaaaaaaaaaaaaaaaaaaaaaaaaaaaaaaaaaaaaaaaaaaaaaaaaaaaaaaaaaaaaaaaaaaaaaaaaaaaaaaaaaaaaaaaaaaaaaaaaaaaaaaaaaaaaaaaaaaaaaaaaaaaaaaaaaaaaaaaaaaaaaaaaaaaaaaaaaaaaaaaaaaaaaaaaaaaaaaaaaaaa',\n",
       " 'aaaaaaaaaaaaaaaaaaaaaaaaaaaaaaaaaaaaaaaaaaaaaaaaaaaaaaaaaaaaaaaaaaaaaaaaaaaaaaaaaaaaaaaaaaaaaaaaaaaaaaaaaaaaaaaaaaaaaaaaaaaaaaaaaaaaaaaaaaaaaaaaaaaaaaaaaaaaaaaaaaaaaaaaaaaaaaaaaaaaaaaaaaaaaaaaaaaaaaaaaaaaaaaaaaaaaaaaaaaaaaaaaaaaaaaaaaaaaaaa',\n",
       " 'aaaaaaaaaaaaaaaaaaaaaaaaaaaaaaaaaaaaaaaaaaaaaaaaaaaaaaaaaaaaaaaaaaaaaaaaaaaaaaaaaaaaaaaaaaaaaaaaaaaaaaaaaaaaaaaaaaaaaaaaaaaaaaaaaaaaaaaaaaaaaaaaaaaaaaaaaaaaaaaaaaaaaaaaaaaaaaaaaaaaaaaaaaaaaaaaaaaaaaaaaaaaaaaaaaaaaaaaaaaaaaaaaaaaaaaaaaaaaaaaaaaaa']"
      ]
     },
     "execution_count": 24,
     "metadata": {},
     "output_type": "execute_result"
    }
   ],
   "source": [
    "[\"a\"*n for n in range(5, 250) if n % 5 == 0]"
   ]
  },
  {
   "cell_type": "markdown",
   "id": "da53bacf-8960-4967-9328-b11a4d01d8c0",
   "metadata": {},
   "source": [
    "**Exercise 4**\n",
    "\n",
    "Write a Python function that takes two lists ('l1' and 'l2') of integer numbers as parameters and returns the list of numbers in l1 that are divisors of all numbers in l2 "
   ]
  },
  {
   "cell_type": "code",
   "execution_count": 25,
   "id": "fc942fe3-dfa5-47d1-98e6-ba82d6c16102",
   "metadata": {},
   "outputs": [],
   "source": [
    "def map(l, f):\n",
    "    return [f(x) for x in l]"
   ]
  },
  {
   "cell_type": "code",
   "execution_count": 26,
   "id": "fd8d9b7c-cbac-4c55-9601-a84186186c98",
   "metadata": {},
   "outputs": [],
   "source": [
    "def all_divisors(l1, l2):\n",
    "    d = []\n",
    "    for x in l1:\n",
    "        check_all = map(l2, lambda y: y%x == 0)\n",
    "        if all(check_all):\n",
    "            d.append(x)\n",
    "    return d"
   ]
  },
  {
   "cell_type": "code",
   "execution_count": 27,
   "id": "398adab2-1487-4b8c-b345-829e017e85dd",
   "metadata": {},
   "outputs": [
    {
     "data": {
      "text/plain": [
       "[2, 5]"
      ]
     },
     "execution_count": 27,
     "metadata": {},
     "output_type": "execute_result"
    }
   ],
   "source": [
    "all_divisors([2, 3, 5], [10, 50, 100])"
   ]
  },
  {
   "cell_type": "markdown",
   "id": "fdefcffd-1c2e-41af-8972-2b9e6c34d22b",
   "metadata": {},
   "source": [
    "**Exercise 5**\n",
    "\n",
    "Write a Python function that takes two lists of floating poing numbers. The function must return a list of tuples (n1, n2) with the same length of the input lists, where:\n",
    "- n1 is the complex number whose real and imaginary parts are the corresponding numbers in the lists\n",
    "- n2 is the sum of the two corresponding numbers in the lists, multiplied by the minimum of the two\n",
    "\n",
    "For example: calculate([1.2, 3, -2.3],[1, -1, 4]) --> [(1.2+1j, 2.2), (3-1j, -2), (-2.3+4j, -3.91)]"
   ]
  },
  {
   "cell_type": "code",
   "execution_count": 28,
   "id": "07079547-8159-46ce-8b22-c76f826349fe",
   "metadata": {},
   "outputs": [],
   "source": [
    "def calculate(l1, l2):\n",
    "    return [(x+y*1j, (x+y) * min(x,y)) for x,y in zip(l1,l2)]"
   ]
  },
  {
   "cell_type": "code",
   "execution_count": 29,
   "id": "1188197a-a2db-40db-a17f-2970377b4e29",
   "metadata": {},
   "outputs": [
    {
     "data": {
      "text/plain": [
       "[((1.2+1j), 2.2), ((3-1j), -2), ((-2.3+4j), -3.91)]"
      ]
     },
     "execution_count": 29,
     "metadata": {},
     "output_type": "execute_result"
    }
   ],
   "source": [
    "calculate([1.2, 3, -2.3],[1, -1, 4])"
   ]
  },
  {
   "cell_type": "markdown",
   "id": "4012d524-75dc-42e9-b248-73b6d0c0c955",
   "metadata": {},
   "source": [
    "**Exercise 6**\n",
    "\n",
    "Create, by using set comprehension, the following set of strings: all strings being non-empty prefiexes of the world \"acknowledgement\" (15 letters)"
   ]
  },
  {
   "cell_type": "code",
   "execution_count": 31,
   "id": "32c99935-e219-4be5-9e7d-03412109336c",
   "metadata": {},
   "outputs": [
    {
     "data": {
      "text/plain": [
       "{'a',\n",
       " 'ac',\n",
       " 'ack',\n",
       " 'ackn',\n",
       " 'ackno',\n",
       " 'acknow',\n",
       " 'acknowl',\n",
       " 'acknowle',\n",
       " 'acknowled',\n",
       " 'acknowledg',\n",
       " 'acknowledge',\n",
       " 'acknowledgem',\n",
       " 'acknowledgeme',\n",
       " 'acknowledgemen',\n",
       " 'acknowledgement'}"
      ]
     },
     "execution_count": 31,
     "metadata": {},
     "output_type": "execute_result"
    }
   ],
   "source": [
    "s = \"acknowledgement\"\n",
    "{s[:i] for i in range(1, 16)}"
   ]
  },
  {
   "cell_type": "markdown",
   "id": "a72d9961-779d-46ae-96cc-a8f46c16d685",
   "metadata": {},
   "source": [
    "**Exercise 7**\n",
    "\n",
    "Write a Python function that takes a dictionary d mapping str:int and returns a tuple (k_min, k_max, v_sum), where:\n",
    "- k_min is the key of the element with the smallest value\n",
    "- k_max is the key of the element with the largest value\n",
    "- v_sum is the sum of all the values"
   ]
  },
  {
   "cell_type": "code",
   "execution_count": 34,
   "id": "1de32d18-4c5f-4d32-b020-a4f8ab8bd544",
   "metadata": {},
   "outputs": [],
   "source": [
    "def f(d):\n",
    "    k_min = min(d, key=lambda k: d[k])\n",
    "    k_max = max(d, key=lambda k: d[k])\n",
    "    v_sum = sum(d.values())\n",
    "    return (k_min, k_max, v_sum)"
   ]
  },
  {
   "cell_type": "code",
   "execution_count": 35,
   "id": "efd1695d-5d14-41dd-9202-b8f4928ee5e7",
   "metadata": {},
   "outputs": [
    {
     "data": {
      "text/plain": [
       "('b', 'c', 12)"
      ]
     },
     "execution_count": 35,
     "metadata": {},
     "output_type": "execute_result"
    }
   ],
   "source": [
    "f({\"a\": 2, \"b\": 0, \"c\": 10})"
   ]
  },
  {
   "cell_type": "markdown",
   "id": "cce72f87-4daa-4b85-8b0a-67e47325e7af",
   "metadata": {},
   "source": [
    "**Exercise 8**\n",
    "\n",
    "Write a recursive Python function that compute the sum of the first n natural numbers"
   ]
  },
  {
   "cell_type": "code",
   "execution_count": 36,
   "id": "32458c15-b504-42c5-b31c-a14d4fa614c0",
   "metadata": {},
   "outputs": [],
   "source": [
    "def recursive_sum(n):\n",
    "    if n == 1:\n",
    "        return 1\n",
    "    else:\n",
    "        return n + recursive_sum(n-1)"
   ]
  },
  {
   "cell_type": "code",
   "execution_count": 39,
   "id": "2f2e4cfd-0c2c-4e6e-a683-9397ae461a35",
   "metadata": {},
   "outputs": [
    {
     "data": {
      "text/plain": [
       "21"
      ]
     },
     "execution_count": 39,
     "metadata": {},
     "output_type": "execute_result"
    }
   ],
   "source": [
    "recursive_sum(6)"
   ]
  },
  {
   "cell_type": "markdown",
   "id": "e64207e2-4589-4d8a-bb5d-b41f6abc51bf",
   "metadata": {},
   "source": [
    "**Exercise 9** \n",
    "\n",
    "Write a recursive Python function that takes as input two integer numbers 'b' and 'p' and returns $b^p$"
   ]
  },
  {
   "cell_type": "code",
   "execution_count": 40,
   "id": "c30f58d0-accc-483f-a8b3-d92b764b76f9",
   "metadata": {},
   "outputs": [],
   "source": [
    "def recursive_pow(b,p):\n",
    "    if p == 0:\n",
    "        return 1\n",
    "    else:\n",
    "        return b * recursive_pow(b,p-1)"
   ]
  },
  {
   "cell_type": "code",
   "execution_count": 43,
   "id": "d7fc93b1-0ead-415d-8064-8b2d737cce09",
   "metadata": {},
   "outputs": [
    {
     "data": {
      "text/plain": [
       "81"
      ]
     },
     "execution_count": 43,
     "metadata": {},
     "output_type": "execute_result"
    }
   ],
   "source": [
    "recursive_pow(3,4)"
   ]
  }
 ],
 "metadata": {
  "kernelspec": {
   "display_name": "Python 3 (ipykernel)",
   "language": "python",
   "name": "python3"
  },
  "language_info": {
   "codemirror_mode": {
    "name": "ipython",
    "version": 3
   },
   "file_extension": ".py",
   "mimetype": "text/x-python",
   "name": "python",
   "nbconvert_exporter": "python",
   "pygments_lexer": "ipython3",
   "version": "3.11.6"
  }
 },
 "nbformat": 4,
 "nbformat_minor": 5
}
