{
 "cells": [
  {
   "cell_type": "markdown",
   "id": "c3765bdb-177b-4737-a277-1ddb5cdf4c15",
   "metadata": {},
   "source": [
    "# Digital Transformation Management - Programming with Python"
   ]
  },
  {
   "cell_type": "markdown",
   "id": "f9811439-8152-41b4-934e-2ee7594dc5ca",
   "metadata": {},
   "source": [
    "## Advanced Data Structures - Sets"
   ]
  },
  {
   "cell_type": "markdown",
   "id": "c9d80b4b-56ea-433d-ae5c-af94fced0881",
   "metadata": {},
   "source": [
    "**Exercise 0**\n",
    "\n",
    "Write a python function that, using set comprehension, returns a set containing integers from n1 to n2"
   ]
  },
  {
   "cell_type": "code",
   "execution_count": null,
   "id": "097c0dc8-6bba-42a4-8fb2-69ba42197124",
   "metadata": {},
   "outputs": [],
   "source": [
    "..."
   ]
  },
  {
   "cell_type": "markdown",
   "id": "4d79b99e-5835-4d96-b6d7-873f327f1bea",
   "metadata": {},
   "source": [
    "**Exercise 1**\n",
    "\n",
    "Using the function implemented in exercise 0, create:\n",
    "- a variable 's1' that contains numbers from 0 to 20\n",
    "- a variable 's2' that contains numbers from 10 to 50"
   ]
  },
  {
   "cell_type": "code",
   "execution_count": null,
   "id": "7af152d3-50ae-43c3-9e53-ca118108a4a5",
   "metadata": {},
   "outputs": [],
   "source": [
    "..."
   ]
  },
  {
   "cell_type": "markdown",
   "id": "3401e4f9-ebf9-4b6d-8105-1151d8a08fbe",
   "metadata": {},
   "source": [
    "**Exercise 2**\n",
    "\n",
    "Write a python program that, given s1 and s2, computes:\n",
    "- The intersection\n",
    "- The union\n",
    "- The difference\n",
    "- The symmetric difference"
   ]
  },
  {
   "cell_type": "code",
   "execution_count": null,
   "id": "1f4e89ea-c440-43f4-bc97-bca4e192eb83",
   "metadata": {},
   "outputs": [],
   "source": [
    "..."
   ]
  },
  {
   "cell_type": "markdown",
   "id": "5007b2f3-c4a0-466c-863c-d4fbcba76f9e",
   "metadata": {},
   "source": [
    "## Advanced Data Structures - Dictionaries"
   ]
  },
  {
   "cell_type": "markdown",
   "id": "3b2ef92c-91b3-4e60-bb3e-439d34a9a8b7",
   "metadata": {},
   "source": [
    "**Exercise 1**\n",
    "\n",
    "Write a python function that takes a string as input and returns the frequency of each word"
   ]
  },
  {
   "cell_type": "code",
   "execution_count": null,
   "id": "c5dac5fb-1286-41b5-bc6b-69519ce35a61",
   "metadata": {},
   "outputs": [],
   "source": [
    "..."
   ]
  },
  {
   "cell_type": "markdown",
   "id": "133376fc-743f-433f-9f21-99bf81740c49",
   "metadata": {},
   "source": [
    "**Exercise 2**\n",
    "\n",
    "Write a python program that provides the user with the following features:\n",
    "- Add a new exam passed with the related grade\n",
    "- Check if a specified exam is already present\n",
    "- Compute the average grade"
   ]
  },
  {
   "cell_type": "code",
   "execution_count": null,
   "id": "ae7f28b7-26f0-4c9b-b542-7e2a6af2774d",
   "metadata": {},
   "outputs": [],
   "source": [
    "..."
   ]
  },
  {
   "cell_type": "markdown",
   "id": "e4b84fbf-1dfc-494b-a57e-930f131a1c26",
   "metadata": {},
   "source": [
    "## More exercises"
   ]
  },
  {
   "cell_type": "markdown",
   "id": "a20382ab-0aeb-4045-9ecf-08ac9ec70ceb",
   "metadata": {},
   "source": [
    "**Exercise 1**\n",
    "\n",
    "Create, by using list comprehension, the following list of integer numbers: the cubes of numbers n from 0 to 200 such that n is prime"
   ]
  },
  {
   "cell_type": "code",
   "execution_count": null,
   "id": "d1e05334-1a2a-4408-b7d8-e43753e12015",
   "metadata": {},
   "outputs": [],
   "source": [
    "..."
   ]
  },
  {
   "cell_type": "markdown",
   "id": "c04f682f-9bf2-4607-9873-f7210b677853",
   "metadata": {},
   "source": [
    "**Exercise 2**\n",
    "\n",
    "Write a Python function called calculate that takes two lists of integer numbers as parameters. The function must return a list of tuples (n1, n2) with the same length of the input lists, where:\n",
    "- n1 is the sum of the corresponding numbers in the lists\n",
    "- n2 is the product of the corresponding numbers in the lists\n",
    "\n",
    "For example: calculate([2, 1, 3],[-3, 2, 5]) --> [(-1, -6), (3, 2), (8, 15)]"
   ]
  },
  {
   "cell_type": "code",
   "execution_count": null,
   "id": "93cf60d6-785e-42bd-9bd4-2f1802bd778a",
   "metadata": {},
   "outputs": [],
   "source": [
    "..."
   ]
  },
  {
   "cell_type": "markdown",
   "id": "06f75a4a-c144-45c3-ab74-fa27f497a020",
   "metadata": {},
   "source": [
    "**Exercise 3**\n",
    "\n",
    "Create, by using set comprehension, the following set of strings: strings inlcuding n \"a\" characters with n raning from 5 to 250 and being such that n is multiple of 5. \n",
    "The strings contained in the set are: 'aaaaa', 'aaaaaaaaaa', ..."
   ]
  },
  {
   "cell_type": "code",
   "execution_count": null,
   "id": "be932f9f-5f90-4a77-b6fc-7cd92fa4707d",
   "metadata": {},
   "outputs": [],
   "source": [
    "..."
   ]
  },
  {
   "cell_type": "markdown",
   "id": "da53bacf-8960-4967-9328-b11a4d01d8c0",
   "metadata": {},
   "source": [
    "**Exercise 4**\n",
    "\n",
    "Write a Python function that takes two lists ('l1' and 'l2') of integer numbers as parameters and returns the list of numbers in l1 that are divisors of all numbers in l2 "
   ]
  },
  {
   "cell_type": "code",
   "execution_count": null,
   "id": "fd8d9b7c-cbac-4c55-9601-a84186186c98",
   "metadata": {},
   "outputs": [],
   "source": [
    "..."
   ]
  },
  {
   "cell_type": "markdown",
   "id": "fdefcffd-1c2e-41af-8972-2b9e6c34d22b",
   "metadata": {},
   "source": [
    "**Exercise 5**\n",
    "\n",
    "Write a Python function that takes two lists of floating poing numbers. The function must return a list of tuples (n1, n2) with the same length of the input lists, where:\n",
    "- n1 is the complex number whose real and imaginary parts are the corresponding numbers in the lists\n",
    "- n2 is the sum of the two corresponding numbers in the lists, multiplied by the minimum of the two\n",
    "\n",
    "For example: calculate([1.2, 3, -2.3],[1, -1, 4]) --> [(1.2+1j, 2.2), (3-1j, -2), (-2.3+4j, -3.91)]"
   ]
  },
  {
   "cell_type": "markdown",
   "id": "4012d524-75dc-42e9-b248-73b6d0c0c955",
   "metadata": {},
   "source": [
    "**Exercise 6**\n",
    "\n",
    "Create, by using set comprehension, the following set of strings: all strings being non-empty prefiexes of the world \"acknowledgement\" (15 letters)"
   ]
  },
  {
   "cell_type": "code",
   "execution_count": null,
   "id": "32c99935-e219-4be5-9e7d-03412109336c",
   "metadata": {},
   "outputs": [],
   "source": [
    "..."
   ]
  },
  {
   "cell_type": "markdown",
   "id": "a72d9961-779d-46ae-96cc-a8f46c16d685",
   "metadata": {},
   "source": [
    "**Exercise 7**\n",
    "\n",
    "Write a Python function that takes a dictionary d mapping str:int and returns a tuple (k_min, k_max, v_sum), where:\n",
    "- k_min is the key of the element with the smallest value\n",
    "- k_max is the key of the element with the largest value\n",
    "- v_sum is the sum of all the values"
   ]
  },
  {
   "cell_type": "code",
   "execution_count": null,
   "id": "1de32d18-4c5f-4d32-b020-a4f8ab8bd544",
   "metadata": {},
   "outputs": [],
   "source": [
    "..."
   ]
  }
 ],
 "metadata": {
  "kernelspec": {
   "display_name": "Python 3 (ipykernel)",
   "language": "python",
   "name": "python3"
  },
  "language_info": {
   "codemirror_mode": {
    "name": "ipython",
    "version": 3
   },
   "file_extension": ".py",
   "mimetype": "text/x-python",
   "name": "python",
   "nbconvert_exporter": "python",
   "pygments_lexer": "ipython3",
   "version": "3.11.6"
  }
 },
 "nbformat": 4,
 "nbformat_minor": 5
}
