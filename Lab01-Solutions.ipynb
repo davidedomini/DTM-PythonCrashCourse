{
 "cells": [
  {
   "cell_type": "markdown",
   "id": "6616a291-a539-4dde-bdf9-b7450c219434",
   "metadata": {},
   "source": [
    "# Digital Transformation Management - Programming with Python"
   ]
  },
  {
   "cell_type": "markdown",
   "id": "34ef3636-c577-4044-ac96-5b623cf85acb",
   "metadata": {},
   "source": [
    "## Basics"
   ]
  },
  {
   "cell_type": "markdown",
   "id": "8b206e14-f8ee-4925-9828-35910fd49773",
   "metadata": {},
   "source": [
    "**Exercise 0**\n",
    "\n",
    "Write a python program that prints the string \"Hello World!\""
   ]
  },
  {
   "cell_type": "code",
   "execution_count": 1,
   "id": "9c141a32-6742-4b68-817a-76a40ff598c7",
   "metadata": {},
   "outputs": [
    {
     "name": "stdout",
     "output_type": "stream",
     "text": [
      "Hello World!\n"
     ]
    }
   ],
   "source": [
    "print(\"Hello World!\")"
   ]
  },
  {
   "cell_type": "markdown",
   "id": "4db374c5-0f5d-4c86-9a2d-47e538ea7374",
   "metadata": {},
   "source": [
    "**Exercise 1**\n",
    "\n",
    "Write a python program that creates the following variables:\n",
    "- 'n1' is the number of seconds in a day plus the number of minutes in a year\n",
    "- 'n2' is the number of days in ten years\n",
    "- 'n3' is the minimum between 'n1' and 'n2'\n",
    "- 'n4' is pi (rounded to the first four significat digits)\n",
    "- 'n5' is the circumference of a circle with radius 5.3m\n",
    "- 'n6' is the area of a circle with radius 5.3m\n",
    "- 'n7' is the floor division of 'n5' and 'n6'\n",
    "- 'n8' is the remainder of $\\frac{15}{4}$\n",
    "\n",
    "Finally, print all the variables"
   ]
  },
  {
   "cell_type": "code",
   "execution_count": 2,
   "id": "7cf47264-08f9-436a-a304-1a810c192dc9",
   "metadata": {},
   "outputs": [
    {
     "name": "stdout",
     "output_type": "stream",
     "text": [
      "612000\n",
      "3650\n",
      "3650\n",
      "3.1415\n",
      "33.2999\n",
      "88.244735\n",
      "0.0\n",
      "3\n"
     ]
    }
   ],
   "source": [
    "n1 = (60 * 60 * 24) + (60 * 24 * 365)\n",
    "print(n1)\n",
    "n2 = 365 * 10\n",
    "print(n2)\n",
    "n3 = min(n1, n2)\n",
    "print(n3)\n",
    "n4 = 3.1415\n",
    "print(n4)\n",
    "n5 = 2 * n4 * 5.3\n",
    "print(n5)\n",
    "n6 = n4 * (5.3 ** 2)\n",
    "print(n6)\n",
    "n7 = n5 // n6\n",
    "print(n7)\n",
    "n8 = 15 % 4\n",
    "print(n8)"
   ]
  },
  {
   "cell_type": "markdown",
   "id": "b584e80e-3b3f-4f00-ba4a-86a24991234b",
   "metadata": {},
   "source": [
    "## String manipulation"
   ]
  },
  {
   "cell_type": "markdown",
   "id": "8b702296-25d3-469e-8080-4c85f249238f",
   "metadata": {},
   "source": [
    "**Exercise 0**\n",
    "\n",
    "Write a python program that creates the following variables:\n",
    "- 's1' is the string \"Hello, I'm a DTM student!\"\n",
    "- 's2' is the same string as 's1' but with each word on a different line\n",
    "- 's3' is the string \"Hello my name is #1, and I'm #2 years old!\" where #1 and #2 are respectively the values contained in two variables named 'name' and 'age' (*hint*: use string interpolation)\n",
    "\n",
    "Finally, print all the variables"
   ]
  },
  {
   "cell_type": "code",
   "execution_count": 3,
   "id": "0aea0341-1668-476d-ba0d-460f138f1e3f",
   "metadata": {},
   "outputs": [
    {
     "name": "stdout",
     "output_type": "stream",
     "text": [
      "Hello, I'm a DTM student!\n",
      "\n",
      "    Hello, \n",
      "    I\n",
      "    am\n",
      "    a \n",
      "    DTM \n",
      "    student!\n",
      "\n",
      "Hello my name is Davide, and I'm 24 years old!\n"
     ]
    }
   ],
   "source": [
    "s1 = \"Hello, I'm a DTM student!\"\n",
    "print(s1)\n",
    "s2 = \"\"\"\n",
    "    Hello, \n",
    "    I\n",
    "    am\n",
    "    a \n",
    "    DTM \n",
    "    student!\n",
    "\"\"\"\n",
    "print(s2)\n",
    "name = \"Davide\"\n",
    "age = \"24\"\n",
    "s3 = f\"Hello my name is {name}, and I'm {age} years old!\"\n",
    "print(s3)"
   ]
  },
  {
   "cell_type": "markdown",
   "id": "5423e992-5b5d-48e8-87b4-e1eed4762ab0",
   "metadata": {},
   "source": [
    "**Exercise 1**\n",
    "\n",
    "Write a python program that creates the following variables:\n",
    "- 'c1' contains the first character of 's1'\n",
    "- 'c2' contains the first five characters of 's1'\n",
    "- 'c3' contains the last five character of 's1'\n",
    "- 'c4' contains the substring \"DTM\" from 's1'\n",
    "- 'c5' contains the same string of s2 but on a single line (N.B. you must use the variable 's2' when creating 'c5')\n",
    "- 'c6' contains 's1' reversed\n",
    "\n",
    "Finally, print all the variables"
   ]
  },
  {
   "cell_type": "code",
   "execution_count": 7,
   "id": "dfdcf0d0-bdb7-4eb4-9b40-64b803cf5691",
   "metadata": {},
   "outputs": [
    {
     "name": "stdout",
     "output_type": "stream",
     "text": [
      "H\n",
      "Hello\n",
      "dent!\n",
      "DTM\n",
      "    Hello,     I    am    a     DTM     student!\n",
      "!tneduts MTD a m'I ,olleH\n"
     ]
    }
   ],
   "source": [
    "c1 = s1[0]\n",
    "print(c1)\n",
    "c2 = s1[:5]\n",
    "print(c2)\n",
    "c3 = s1[-5:]\n",
    "print(c3)\n",
    "c4 = s1[13:16]\n",
    "print(c4)\n",
    "c5 = s2.replace('\\n', '')\n",
    "print(c5)\n",
    "c6 = s1[::-1]\n",
    "print(c6)"
   ]
  },
  {
   "cell_type": "markdown",
   "id": "7daacab8-6333-49b1-9b1d-da8f6f9ebb90",
   "metadata": {},
   "source": [
    "**Exercise 2** \n",
    "\n",
    "N.B. You can only use the built in functions defined by python on strings\n",
    "\n",
    "Given the string \"I love apples, apples are my favorite fruit!\"\n",
    "\n",
    "- Convert the string in lower case\n",
    "- Count the number of occurrences of \"apple\"\n",
    "- Find the index of the first occurrence of \"apple\"\n",
    "- Check if all the characters in the string are in the alphabet "
   ]
  },
  {
   "cell_type": "code",
   "execution_count": 11,
   "id": "f6ea53d9-8570-4509-a4de-3e37f0d45397",
   "metadata": {},
   "outputs": [
    {
     "name": "stdout",
     "output_type": "stream",
     "text": [
      "i love apples, apples are my favorite fruit!\n",
      "2\n",
      "7\n",
      "False\n"
     ]
    }
   ],
   "source": [
    "s = \"I love apples, apples are my favorite fruit!\"\n",
    "print(s.lower())\n",
    "print(s.count(\"apples\"))\n",
    "print(s.find(\"apples\"))\n",
    "print(s.isalpha())"
   ]
  },
  {
   "cell_type": "markdown",
   "id": "50494976-a82f-4279-a6fa-7921e9206b84",
   "metadata": {},
   "source": [
    "## Branching"
   ]
  },
  {
   "cell_type": "markdown",
   "id": "ccc96d3c-f3d7-4ca1-a69d-26a499f80e47",
   "metadata": {},
   "source": [
    "**Exercise 0**\n",
    "\n",
    "Write a python program that reads in input a number and check whether it higher than 100"
   ]
  },
  {
   "cell_type": "code",
   "execution_count": 13,
   "id": "b4d1be78-8999-406d-9ec8-da44d8a445de",
   "metadata": {},
   "outputs": [
    {
     "name": "stdin",
     "output_type": "stream",
     "text": [
      "Take a number:  1\n"
     ]
    },
    {
     "name": "stdout",
     "output_type": "stream",
     "text": [
      "lower\n"
     ]
    }
   ],
   "source": [
    "n = int(input(\"Take a number: \"))\n",
    "if n > 100:\n",
    "    print(\"higher\")\n",
    "else:\n",
    "    print(\"lower\")"
   ]
  },
  {
   "cell_type": "markdown",
   "id": "b7bb27ce-84c6-4289-93b5-d070095a0c53",
   "metadata": {},
   "source": [
    "**Exercise 1**\n",
    "\n",
    "Write a python program that reads in input a string and check if it ends with the letter \"e\""
   ]
  },
  {
   "cell_type": "code",
   "execution_count": 17,
   "id": "d62adb5f-5551-42da-a0c4-fe47900d14c7",
   "metadata": {},
   "outputs": [
    {
     "name": "stdin",
     "output_type": "stream",
     "text": [
      "Enter a string:  ciao\n"
     ]
    },
    {
     "name": "stdout",
     "output_type": "stream",
     "text": [
      "No\n"
     ]
    }
   ],
   "source": [
    "s = input(\"Enter a string: \")\n",
    "if s.endswith('e'):\n",
    "    print(\"Yes\")\n",
    "else:\n",
    "    print(\"No\")"
   ]
  },
  {
   "cell_type": "markdown",
   "id": "af6474d1-7d31-41c6-9d21-a69249975da2",
   "metadata": {},
   "source": [
    "**Exercise 2**\n",
    "\n",
    "Write a python program that reads in input a number and check whether it is in the range [100; 300["
   ]
  },
  {
   "cell_type": "code",
   "execution_count": 21,
   "id": "55fa48bd-7a8c-4c5f-b43f-8a954d828ad3",
   "metadata": {},
   "outputs": [
    {
     "name": "stdin",
     "output_type": "stream",
     "text": [
      "Take a number:  301\n"
     ]
    },
    {
     "name": "stdout",
     "output_type": "stream",
     "text": [
      "Out of range\n"
     ]
    }
   ],
   "source": [
    "n = int(input(\"Take a number: \"))\n",
    "if n >= 100 and n < 300:\n",
    "    print(\"In range\")\n",
    "else:\n",
    "    print(\"Out of range\")"
   ]
  },
  {
   "cell_type": "markdown",
   "id": "7f0a9502-0959-4359-95b1-9d9c7580d2fe",
   "metadata": {},
   "source": [
    "**Exercise 3**\n",
    "\n",
    "Write a python program that reads in input a number and check whether it is in the range [100; 300[ or [500; 600["
   ]
  },
  {
   "cell_type": "code",
   "execution_count": 24,
   "id": "68f052cb-d01c-40c7-bdd0-11134695599c",
   "metadata": {},
   "outputs": [
    {
     "name": "stdin",
     "output_type": "stream",
     "text": [
      "Take a number:  354\n"
     ]
    },
    {
     "name": "stdout",
     "output_type": "stream",
     "text": [
      "Out of range\n"
     ]
    }
   ],
   "source": [
    "n = int(input(\"Take a number: \"))\n",
    "if (n >= 100 and n < 300) or (n >= 500 and n < 600):\n",
    "    print(\"In range\")\n",
    "else:\n",
    "    print(\"Out of range\")"
   ]
  },
  {
   "cell_type": "markdown",
   "id": "1a49a5c0-99f6-42fa-9369-dc95041dabfe",
   "metadata": {},
   "source": [
    "**Exercise 4**\n",
    "\n",
    "Write a python program that reads in input a string 'm' and checks if its length is a multiple of 10"
   ]
  },
  {
   "cell_type": "code",
   "execution_count": 29,
   "id": "cefe15ae-4cc7-4ee5-9550-ed88af134ce9",
   "metadata": {},
   "outputs": [
    {
     "name": "stdin",
     "output_type": "stream",
     "text": [
      "Enter a string:  ciaociaooociaociaoood\n"
     ]
    },
    {
     "name": "stdout",
     "output_type": "stream",
     "text": [
      "No\n"
     ]
    }
   ],
   "source": [
    "s = input(\"Enter a string: \")\n",
    "if len(s) % 10 == 0:\n",
    "    print(\"Yes\")\n",
    "else:\n",
    "    print(\"No\")"
   ]
  },
  {
   "cell_type": "markdown",
   "id": "eafe64c7-42a1-4dea-ac61-4c9af2e24f59",
   "metadata": {},
   "source": [
    "## Looping"
   ]
  },
  {
   "cell_type": "markdown",
   "id": "1c493148-37f0-42f5-bcbf-1bdc501e4b6b",
   "metadata": {},
   "source": [
    "**Exercise 0**\n",
    "\n",
    "Write a python program that prints the number from 0 to n (use both for cycle and while cycle)"
   ]
  },
  {
   "cell_type": "code",
   "execution_count": 31,
   "id": "275352e5-5999-48c0-af33-5fceffafcd2f",
   "metadata": {},
   "outputs": [
    {
     "name": "stdin",
     "output_type": "stream",
     "text": [
      "Take a number 10\n"
     ]
    },
    {
     "name": "stdout",
     "output_type": "stream",
     "text": [
      "0\n",
      "1\n",
      "2\n",
      "3\n",
      "4\n",
      "5\n",
      "6\n",
      "7\n",
      "8\n",
      "9\n",
      "--------------\n",
      "0\n",
      "1\n",
      "2\n",
      "3\n",
      "4\n",
      "5\n",
      "6\n",
      "7\n",
      "8\n",
      "9\n"
     ]
    }
   ],
   "source": [
    "#For cycle\n",
    "n = int(input(\"Take a number\"))\n",
    "for i in range(n):\n",
    "    print(i)\n",
    "\n",
    "print(\"--------------\")\n",
    "\n",
    "#While cycle\n",
    "j = 0\n",
    "while j < n:\n",
    "    print(j)\n",
    "    j = j +1"
   ]
  },
  {
   "cell_type": "markdown",
   "id": "bc4e2c30-97f5-4b94-a3fd-6a67008c2944",
   "metadata": {},
   "source": [
    "**Exercise 1**\n",
    "\n",
    "Write a python program that computes the sum of the first n even numbers (use both for cycle and while cycle)"
   ]
  },
  {
   "cell_type": "code",
   "execution_count": 34,
   "id": "b0ab3a51-446c-4891-b497-ac5ebce1d3e4",
   "metadata": {},
   "outputs": [
    {
     "name": "stdin",
     "output_type": "stream",
     "text": [
      "Take a number 10\n"
     ]
    },
    {
     "name": "stdout",
     "output_type": "stream",
     "text": [
      "Sum:  20\n",
      "--------------\n",
      "Sum:  20\n"
     ]
    }
   ],
   "source": [
    "#For cycle\n",
    "n = int(input(\"Take a number\"))\n",
    "s = 0\n",
    "for i in range(n):\n",
    "   if i % 2 == 0:\n",
    "       s = s + i\n",
    "print(\"Sum: \", s)\n",
    "\n",
    "print(\"--------------\")\n",
    "\n",
    "#While cycle\n",
    "j = 0\n",
    "s = 0\n",
    "while j < n:\n",
    "    if j % 2 == 0:\n",
    "       s = s + j\n",
    "    j = j + 1 \n",
    "print(\"Sum: \", s)"
   ]
  },
  {
   "cell_type": "markdown",
   "id": "54fc14fe-a974-4d0f-8c25-e8ee59a1e144",
   "metadata": {},
   "source": [
    "**Exercise 2**\n",
    "\n",
    "Write a python program that counts the number of vowels in a given string (use both for cycle and while cycle)"
   ]
  },
  {
   "cell_type": "code",
   "execution_count": 36,
   "id": "d6bd9be3-b255-4c5e-b683-a3e1df5fa8e2",
   "metadata": {},
   "outputs": [
    {
     "name": "stdin",
     "output_type": "stream",
     "text": [
      "Enter a string:  Ciao come stai?\n"
     ]
    },
    {
     "name": "stdout",
     "output_type": "stream",
     "text": [
      "7\n",
      "--------\n",
      "7\n"
     ]
    }
   ],
   "source": [
    "vowels = \"aeiou\"\n",
    "n = 0\n",
    "s = input(\"Enter a string: \")\n",
    "\n",
    "#For cycle\n",
    "for c in s:\n",
    "    if c in vowels:\n",
    "        n = n + 1\n",
    "print(n)\n",
    "\n",
    "print(\"--------\")\n",
    "\n",
    "n = 0\n",
    "i = 0\n",
    "while i < len(s):\n",
    "    if s[i] in vowels:\n",
    "        n = n + 1\n",
    "    i = i + 1\n",
    "print(n)"
   ]
  },
  {
   "cell_type": "markdown",
   "id": "8328ae2f-e59e-445c-8e77-a025585312b5",
   "metadata": {},
   "source": [
    "## Functions"
   ]
  },
  {
   "cell_type": "markdown",
   "id": "ef1d278b-4559-4272-9d52-6b817cd99d86",
   "metadata": {},
   "source": [
    "**Exercise 0**\n",
    "\n",
    "Write a python function called 'greetings' that takes in input a name and returns the string \"Hello, name!\"\n",
    "\n",
    "For example, greetings(\"Angelo\") should return \"Hello, Angelo!\""
   ]
  },
  {
   "cell_type": "code",
   "execution_count": 40,
   "id": "ed76a5e2-f528-435a-8dd8-62a731503af2",
   "metadata": {},
   "outputs": [],
   "source": [
    "def greetings(name):\n",
    "    return f\"Hello, {name}!\""
   ]
  },
  {
   "cell_type": "code",
   "execution_count": 41,
   "id": "3d301002-057f-41a6-8661-9df6f83e269f",
   "metadata": {},
   "outputs": [
    {
     "name": "stdout",
     "output_type": "stream",
     "text": [
      "Hello, Angelo!\n"
     ]
    }
   ],
   "source": [
    "print(greetings(\"Angelo\"))"
   ]
  },
  {
   "cell_type": "markdown",
   "id": "b3911c56-6bae-4de6-a36f-997741fb358f",
   "metadata": {},
   "source": [
    "**Exercise 1**\n",
    "\n",
    "Write a python function that takes in input two numbers 'a' and 'b' and returns $\\frac{a}{b}$"
   ]
  },
  {
   "cell_type": "code",
   "execution_count": 42,
   "id": "d6b250cd-6790-4597-a48a-fe951150834a",
   "metadata": {},
   "outputs": [],
   "source": [
    "def div(a, b):\n",
    "    return a / b"
   ]
  },
  {
   "cell_type": "code",
   "execution_count": 44,
   "id": "53f04505-3132-459a-84f5-bc33bfcb1b4c",
   "metadata": {},
   "outputs": [
    {
     "name": "stdout",
     "output_type": "stream",
     "text": [
      "3.3333333333333335\n"
     ]
    }
   ],
   "source": [
    "print(div(10,3))"
   ]
  },
  {
   "cell_type": "markdown",
   "id": "17bece85-0a2e-493d-bb78-80e9e4082891",
   "metadata": {},
   "source": [
    "**Exercise 2**\n",
    "\n",
    "Write a python function that takes in input a number 'a' and checks if it is a prime number"
   ]
  },
  {
   "cell_type": "code",
   "execution_count": 52,
   "id": "63474a74-4ce4-4fa9-8b0e-e0768ccf64d5",
   "metadata": {},
   "outputs": [],
   "source": [
    "import math\n",
    "def is_prime(a):\n",
    "    bound = math.ceil(math.sqrt(a))\n",
    "    for i in range(2, bound):\n",
    "        if a % i == 0:\n",
    "            return False\n",
    "    return True"
   ]
  },
  {
   "cell_type": "code",
   "execution_count": 53,
   "id": "d7f53235-8f27-4c91-ac8f-d55635707ae5",
   "metadata": {},
   "outputs": [
    {
     "name": "stdout",
     "output_type": "stream",
     "text": [
      "True\n",
      "False\n",
      "True\n",
      "True\n",
      "False\n"
     ]
    }
   ],
   "source": [
    "print(is_prime(3))\n",
    "print(is_prime(10))\n",
    "print(is_prime(17))\n",
    "print(is_prime(23))\n",
    "print(is_prime(33))"
   ]
  },
  {
   "cell_type": "markdown",
   "id": "bbd44c88-a325-4a42-af9c-adcfb32fd558",
   "metadata": {},
   "source": [
    "**Exercise 3**\n",
    "\n",
    "Write a python function called 'substring' that takes as input a string 's', the start index 'start', the end index 'end' and returns the corresponding substring of 's'"
   ]
  },
  {
   "cell_type": "code",
   "execution_count": 54,
   "id": "ff73b727-9686-4856-a448-31440ea2d832",
   "metadata": {},
   "outputs": [],
   "source": [
    "def substring(s, start, end):\n",
    "    return s[start:end]"
   ]
  },
  {
   "cell_type": "code",
   "execution_count": 55,
   "id": "bbb29e9f-dace-4eb2-9990-0c95157333d2",
   "metadata": {},
   "outputs": [
    {
     "name": "stdout",
     "output_type": "stream",
     "text": [
      "Hello\n"
     ]
    }
   ],
   "source": [
    "print(substring(\"Hello, how are you?\", 0, 5))"
   ]
  },
  {
   "cell_type": "markdown",
   "id": "277e88e6-c85e-4043-b53f-cc0f72ec46bd",
   "metadata": {},
   "source": [
    "**Exercise 4**\n",
    "\n",
    "Write a python function called 'count' that takes as input a string 's' and a letter 'l' and count the occurrences of 'l' in 's'"
   ]
  },
  {
   "cell_type": "code",
   "execution_count": 56,
   "id": "622b7a7d-00c8-4d12-9aee-64e40e9bf799",
   "metadata": {},
   "outputs": [],
   "source": [
    "def count(s, l): \n",
    "    n_l = 0\n",
    "    for c in s:\n",
    "        if c == l:\n",
    "            n_l = n_l + 1\n",
    "    return n_l"
   ]
  },
  {
   "cell_type": "code",
   "execution_count": 59,
   "id": "8ed4c7c5-2b3c-49e2-87cd-85d1a648b143",
   "metadata": {},
   "outputs": [
    {
     "name": "stdout",
     "output_type": "stream",
     "text": [
      "2\n",
      "3\n"
     ]
    }
   ],
   "source": [
    "print(count(\"Hello, how are you?\", \"l\"))\n",
    "print(count(\"Hello, how are you?\", \"o\"))"
   ]
  },
  {
   "cell_type": "markdown",
   "id": "bcc540bd-7d5e-468d-9b46-5005cdc1aa35",
   "metadata": {},
   "source": [
    "**Exercise 5**\n",
    "\n",
    "Write a python function that takes as input a string and checks whether it is a palindrome"
   ]
  },
  {
   "cell_type": "code",
   "execution_count": 60,
   "id": "36944f44-a1c8-4df5-89e8-14e2ee9d6e1a",
   "metadata": {},
   "outputs": [],
   "source": [
    "def is_palindrome(s):\n",
    "    return s == s[::-1]"
   ]
  },
  {
   "cell_type": "code",
   "execution_count": 61,
   "id": "7ce9edab-1724-4947-b9fa-0f2cb1e60c3c",
   "metadata": {},
   "outputs": [
    {
     "name": "stdout",
     "output_type": "stream",
     "text": [
      "True\n",
      "False\n"
     ]
    }
   ],
   "source": [
    "print(is_palindrome(\"anna\"))\n",
    "print(is_palindrome(\"hello\"))"
   ]
  },
  {
   "cell_type": "markdown",
   "id": "7ed200df-c9be-41c3-a764-1ab4533e2dae",
   "metadata": {},
   "source": [
    "**Exercise 6**\n",
    "\n",
    "Write a python function that takes as input two numbers 'a' and 'b' and computes the Greatest Common Divisor"
   ]
  },
  {
   "cell_type": "code",
   "execution_count": 3,
   "id": "325ae409-6345-4bb8-9304-81f4b0659fd5",
   "metadata": {},
   "outputs": [],
   "source": [
    "def find_divisors(n):\n",
    "    d = []\n",
    "    for i in range(1, n+1):\n",
    "        if n % i == 0:\n",
    "            d.append(i)\n",
    "    return d\n",
    "\n",
    "def gcd(n1, n2):\n",
    "    n1_divisors = set(find_divisors(n1))\n",
    "    n2_divisors = set(find_divisors(n2))\n",
    "    return max(n1_divisors.intersection(n2_divisors))"
   ]
  },
  {
   "cell_type": "code",
   "execution_count": 77,
   "id": "ef7eb73e-6f37-4692-83f9-409b69f8d043",
   "metadata": {},
   "outputs": [
    {
     "name": "stdout",
     "output_type": "stream",
     "text": [
      "5\n",
      "10\n",
      "4\n",
      "15\n"
     ]
    }
   ],
   "source": [
    "print(gcd(15, 20))\n",
    "print(gcd(10, 20))\n",
    "print(gcd(8, 20))\n",
    "print(gcd(15, 150))"
   ]
  },
  {
   "cell_type": "markdown",
   "id": "c914aa90-a466-4d75-b197-b0e5c34ad342",
   "metadata": {},
   "source": [
    "**Exercise 7**\n",
    "\n",
    "Write a python function that takes as input two numbers 'a' and 'b' and computes the Least Common Multiple"
   ]
  },
  {
   "cell_type": "code",
   "execution_count": 78,
   "id": "aa92bb1d-6166-479d-805c-e7330755d078",
   "metadata": {},
   "outputs": [],
   "source": [
    "def lcm(n1, n2):\n",
    "    return (n1*n2)/gcd(n1,n2)"
   ]
  },
  {
   "cell_type": "code",
   "execution_count": 80,
   "id": "6c953388-a515-4d03-803d-3362b4956c04",
   "metadata": {},
   "outputs": [
    {
     "name": "stdout",
     "output_type": "stream",
     "text": [
      "10.0\n",
      "20.0\n",
      "40.0\n"
     ]
    }
   ],
   "source": [
    "print(lcm(5, 2))\n",
    "print(lcm(10, 20))\n",
    "print(lcm(8, 20))"
   ]
  },
  {
   "cell_type": "markdown",
   "id": "a34b20db-0141-44aa-875b-e326ef649d28",
   "metadata": {},
   "source": [
    "**Exercise 8**\n",
    "\n",
    "Write a python function that takes as input a list of strings and returns the index of the first string that is a palindrome (re-use the function implemented in the exercise 5)"
   ]
  },
  {
   "cell_type": "code",
   "execution_count": null,
   "id": "8ca7cb91-659a-44c7-9a4e-808c6492aa56",
   "metadata": {},
   "outputs": [],
   "source": [
    "def find_first_palindrome(strings):\n",
    "    for s, i in enumerate(strings):"
   ]
  },
  {
   "cell_type": "markdown",
   "id": "3aafadfb-e23b-4b54-be63-164569b08c3d",
   "metadata": {},
   "source": [
    "**Exercise 9**\n",
    "\n",
    "Write a python function that takes as input two numbers and checks whether they are [coprime](https://en.wikipedia.org/wiki/Coprime_integers)"
   ]
  },
  {
   "cell_type": "code",
   "execution_count": 11,
   "id": "8011a2cc-810e-4456-accd-95c9b156b0c1",
   "metadata": {},
   "outputs": [],
   "source": [
    "def check_coprime(n1, n2):\n",
    "    d_n1 = set(find_divisors(n1))\n",
    "    d_n2 = set(find_divisors(n2))\n",
    "    intersection = d_n1.intersection(d_n2)\n",
    "    return len(intersection) == 1"
   ]
  },
  {
   "cell_type": "code",
   "execution_count": 15,
   "id": "861a50d0-d072-4392-ae86-ba51d9b7031c",
   "metadata": {},
   "outputs": [
    {
     "data": {
      "text/plain": [
       "True"
      ]
     },
     "execution_count": 15,
     "metadata": {},
     "output_type": "execute_result"
    }
   ],
   "source": [
    "check_coprime(13,9)"
   ]
  },
  {
   "cell_type": "markdown",
   "id": "3072c89f-1d86-4efa-a44a-4f403e48d1b5",
   "metadata": {},
   "source": [
    "**Exercise 10 (advanced)** \n",
    "\n",
    "Write a function that takes an input string and encrypts it using the [Caesar cipher](https://en.wikipedia.org/wiki/Caesar_cipher)\n",
    "\n",
    "*hint*: take a look at their representation in ASCII format"
   ]
  },
  {
   "cell_type": "code",
   "execution_count": 83,
   "id": "28dfe48f-23a9-4fd5-96da-f687a1f7c6d3",
   "metadata": {},
   "outputs": [],
   "source": [
    "def caesar_cipher(s, key):\n",
    "    encrypted = ''\n",
    "    for c in s.lower(): \n",
    "        enc_char = ((ord(c) - 97 + key) % 26) + 97\n",
    "        encrypted += chr(enc_char)\n",
    "    return encrypted"
   ]
  },
  {
   "cell_type": "code",
   "execution_count": 87,
   "id": "ebd536be-526c-485e-9060-e79758f607db",
   "metadata": {},
   "outputs": [
    {
     "name": "stdout",
     "output_type": "stream",
     "text": [
      "bcd\n",
      "abc\n",
      "bcd\n",
      "klm\n"
     ]
    }
   ],
   "source": [
    "print(caesar_cipher(\"abc\", 1))\n",
    "print(caesar_cipher(\"abc\", 26))\n",
    "print(caesar_cipher(\"abc\", 27))\n",
    "print(caesar_cipher(\"abc\", 10))"
   ]
  },
  {
   "cell_type": "markdown",
   "id": "4eafc04a-3140-41ef-be78-73a0e6d5cdb9",
   "metadata": {},
   "source": [
    "## Lamba functions"
   ]
  },
  {
   "cell_type": "markdown",
   "id": "c445aa46-0440-454b-845c-eac01e418c64",
   "metadata": {},
   "source": [
    "**Exercise 0**\n",
    "\n",
    "Write the three following lambda functions:\n",
    "- 's' takes as input two numbers and returns the sum\n",
    "- 'p' takes as input two numbers and returns the product\n",
    "- 'd' takes ad input two numbers ad returns the floor division"
   ]
  },
  {
   "cell_type": "code",
   "execution_count": 88,
   "id": "c2db1135-80a1-447b-90ab-b1131b622785",
   "metadata": {},
   "outputs": [],
   "source": [
    "s = lambda x,y: x+y\n",
    "p = lambda x,y: x*y\n",
    "d = lambda x,y: x//y"
   ]
  },
  {
   "cell_type": "code",
   "execution_count": 89,
   "id": "e56d3e6c-eabf-43fb-814a-b1100ac8a235",
   "metadata": {},
   "outputs": [
    {
     "name": "stdout",
     "output_type": "stream",
     "text": [
      "3\n",
      "33\n",
      "2\n"
     ]
    }
   ],
   "source": [
    "print(s(1,2))\n",
    "print(p(11, 3))\n",
    "print(d(10, 4))"
   ]
  },
  {
   "cell_type": "markdown",
   "id": "be615209-8d40-4f46-801a-c4c2067bb80b",
   "metadata": {},
   "source": [
    "**Exercise 1**\n",
    "\n",
    "Write a python function called 'transform' that takes as input a list of integers 'l' and a lambda function 'f'. It must apply the function 'f' to each element of the source list 'l' and return the corresponding list.\n",
    "\n",
    "For example: l = [1,2,3,4] and f(x) = x + 10 --> [11, 12, 13, 14]\n"
   ]
  },
  {
   "cell_type": "code",
   "execution_count": 90,
   "id": "90a80787-9e54-44f9-b924-7833541b5dcf",
   "metadata": {},
   "outputs": [],
   "source": [
    "def transform(l, f):\n",
    "    return [f(x) for x in l]"
   ]
  },
  {
   "cell_type": "code",
   "execution_count": 92,
   "id": "82d4456f-5f0c-46b2-88b3-3a1760a96c7a",
   "metadata": {},
   "outputs": [
    {
     "name": "stdout",
     "output_type": "stream",
     "text": [
      "[2, 3, 4]\n",
      "[2, 4, 6]\n"
     ]
    }
   ],
   "source": [
    "print(transform([1,2,3], lambda x: x + 1))\n",
    "print(transform([1,2,3], lambda x: x * 2))"
   ]
  },
  {
   "cell_type": "markdown",
   "id": "6be7e1b0-4274-4f8e-b005-b54242e75d67",
   "metadata": {},
   "source": [
    "**Exercise 2**\n",
    "\n",
    "Write a python function called 'select' that takes as input a list of integers 'l' and a lambda function 'f' that express a boolean condition. It must return a list consisting of the elements of 'l' that satisfy the condition expressed by 'f'.\n",
    "\n",
    "For example: l = [1, 4, 10, 20] and f(x) = x > 9 --> [10, 20]"
   ]
  },
  {
   "cell_type": "code",
   "execution_count": 94,
   "id": "14f89f39-0f65-45eb-9923-271d467b5981",
   "metadata": {},
   "outputs": [],
   "source": [
    "def select(l, f):\n",
    "    return [x for x in l if f(x)]"
   ]
  },
  {
   "cell_type": "code",
   "execution_count": 95,
   "id": "d376a5e3-b94d-47af-9857-d3d6116a4184",
   "metadata": {},
   "outputs": [
    {
     "name": "stdout",
     "output_type": "stream",
     "text": [
      "[5, 6, 7, 8]\n",
      "[2, 4, 6, 8]\n"
     ]
    }
   ],
   "source": [
    "print(select([1,2,3,4,5,6,7,8], lambda x: x > 4))\n",
    "print(select([1,2,3,4,5,6,7,8], lambda x: x % 2 == 0))"
   ]
  },
  {
   "cell_type": "markdown",
   "id": "5f165a1e-c513-4945-b553-81c7256a0638",
   "metadata": {},
   "source": [
    "## Recursion"
   ]
  },
  {
   "cell_type": "markdown",
   "id": "6eedee1c-eaee-43cc-b5e2-3cdedde34064",
   "metadata": {},
   "source": [
    "**Exercise 1**\n",
    "\n",
    "Write a recursive python function that takes as input an integer 'n' and returns the factorial of n\n"
   ]
  },
  {
   "cell_type": "code",
   "execution_count": 1,
   "id": "e3a46090-679d-4bc5-af18-72677a8988bc",
   "metadata": {},
   "outputs": [],
   "source": [
    "def factorial(n):\n",
    "    if n == 1:\n",
    "        return 1\n",
    "    else:\n",
    "        return n * factorial(n-1)"
   ]
  },
  {
   "cell_type": "code",
   "execution_count": 6,
   "id": "5fdf0b36-f0ff-45d5-a4d1-4233b5ff8f5b",
   "metadata": {},
   "outputs": [
    {
     "data": {
      "text/plain": [
       "120"
      ]
     },
     "execution_count": 6,
     "metadata": {},
     "output_type": "execute_result"
    }
   ],
   "source": [
    "factorial(5)"
   ]
  },
  {
   "cell_type": "markdown",
   "id": "1656f6b1-a0c3-467e-9775-3f730fa2bffd",
   "metadata": {},
   "source": [
    "**Exercise 2**\n",
    "\n",
    "Write a recursive python function that takes as input an integer 'n' and returns the n-th number of the fibonacci sequence"
   ]
  },
  {
   "cell_type": "code",
   "execution_count": 7,
   "id": "3f0e98c9-0ea8-448f-b7a4-e657c77a8ac3",
   "metadata": {},
   "outputs": [],
   "source": [
    "def fibonacci(n):\n",
    "    if n <= 1:\n",
    "        return 1\n",
    "    else:\n",
    "        return fibonacci(n-2) + fibonacci(n-1)"
   ]
  },
  {
   "cell_type": "code",
   "execution_count": 14,
   "id": "9f637c3f-256e-4ba6-b678-c19cc4b453fb",
   "metadata": {},
   "outputs": [
    {
     "data": {
      "text/plain": [
       "13"
      ]
     },
     "execution_count": 14,
     "metadata": {},
     "output_type": "execute_result"
    }
   ],
   "source": [
    "fibonacci(6)"
   ]
  }
 ],
 "metadata": {
  "kernelspec": {
   "display_name": "Python 3 (ipykernel)",
   "language": "python",
   "name": "python3"
  },
  "language_info": {
   "codemirror_mode": {
    "name": "ipython",
    "version": 3
   },
   "file_extension": ".py",
   "mimetype": "text/x-python",
   "name": "python",
   "nbconvert_exporter": "python",
   "pygments_lexer": "ipython3",
   "version": "3.11.6"
  }
 },
 "nbformat": 4,
 "nbformat_minor": 5
}
