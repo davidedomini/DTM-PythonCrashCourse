{
 "cells": [
  {
   "cell_type": "markdown",
   "id": "6616a291-a539-4dde-bdf9-b7450c219434",
   "metadata": {},
   "source": [
    "# Digital Transformation Management - Programming with Python"
   ]
  },
  {
   "cell_type": "markdown",
   "id": "34ef3636-c577-4044-ac96-5b623cf85acb",
   "metadata": {},
   "source": [
    "## Basics"
   ]
  },
  {
   "cell_type": "markdown",
   "id": "8b206e14-f8ee-4925-9828-35910fd49773",
   "metadata": {},
   "source": [
    "**Exercise 0**\n",
    "\n",
    "Write a python program that prints the string \"Hello World!\""
   ]
  },
  {
   "cell_type": "code",
   "execution_count": null,
   "id": "9c141a32-6742-4b68-817a-76a40ff598c7",
   "metadata": {},
   "outputs": [],
   "source": [
    "..."
   ]
  },
  {
   "cell_type": "markdown",
   "id": "4db374c5-0f5d-4c86-9a2d-47e538ea7374",
   "metadata": {},
   "source": [
    "**Exercise 1**\n",
    "\n",
    "Write a python program that creates the following variables:\n",
    "- 'n1' is the number of seconds in a day plus the number of minutes in a year\n",
    "- 'n2' is the number of days in ten years\n",
    "- 'n3' is the minimum between 'n1' and 'n2'\n",
    "- 'n4' is pi (rounded to the first four significat digits)\n",
    "- 'n5' is the circumference of a circle with radius 5.3m\n",
    "- 'n6' is the area of a circle with radius 5.3m\n",
    "- 'n7' is the floor division of 'n5' and 'n6'\n",
    "- 'n8' is the remainder of $\\frac{15}{4}$\n",
    "\n",
    "Finally, print all the variables"
   ]
  },
  {
   "cell_type": "code",
   "execution_count": null,
   "id": "7cf47264-08f9-436a-a304-1a810c192dc9",
   "metadata": {},
   "outputs": [],
   "source": [
    "n1 = ...\n",
    "n2 = ...\n",
    "..."
   ]
  },
  {
   "cell_type": "markdown",
   "id": "b584e80e-3b3f-4f00-ba4a-86a24991234b",
   "metadata": {},
   "source": [
    "## String manipulation"
   ]
  },
  {
   "cell_type": "markdown",
   "id": "8b702296-25d3-469e-8080-4c85f249238f",
   "metadata": {},
   "source": [
    "**Exercise 0**\n",
    "\n",
    "Write a python program that creates the following variables:\n",
    "- 's1' is the string \"Hello, I'm a DTM student!\"\n",
    "- 's2' is the same string as 's1' but with each word on a different line\n",
    "- 's3' is the string \"Hello my name is #1, and I'm #2 years old!\" where #1 and #2 are respectively the values contained in two variables named 'name' and 'age' (*hint*: use string interpolation)\n",
    "\n",
    "Finally, print all the variables"
   ]
  },
  {
   "cell_type": "code",
   "execution_count": null,
   "id": "0aea0341-1668-476d-ba0d-460f138f1e3f",
   "metadata": {},
   "outputs": [],
   "source": [
    "s1 = ...\n",
    "s2 = ...\n",
    "name = ...\n",
    "age = ...\n",
    "s3 = ..."
   ]
  },
  {
   "cell_type": "markdown",
   "id": "5423e992-5b5d-48e8-87b4-e1eed4762ab0",
   "metadata": {},
   "source": [
    "**Exercise 1**\n",
    "\n",
    "Write a python program that creates the following variables:\n",
    "- 'c1' contains the first character of 's1'\n",
    "- 'c2' contains the first five characters of 's1'\n",
    "- 'c3' contains the last five character of 's1'\n",
    "- 'c4' contains the substring \"DTM\" from 's1'\n",
    "- 'c5' contains the same string of s2 but on a single line (N.B. you must use the variable 's2' when creating 'c5')\n",
    "- 'c6' contains 's1' reversed\n",
    "\n",
    "Finally, print all the variables"
   ]
  },
  {
   "cell_type": "code",
   "execution_count": null,
   "id": "dfdcf0d0-bdb7-4eb4-9b40-64b803cf5691",
   "metadata": {},
   "outputs": [],
   "source": [
    "..."
   ]
  },
  {
   "cell_type": "markdown",
   "id": "7daacab8-6333-49b1-9b1d-da8f6f9ebb90",
   "metadata": {},
   "source": [
    "**Exercise 2** \n",
    "\n",
    "N.B. You can only use the built in functions defined by python on strings\n",
    "\n",
    "Given the string \"I love apples, apples are my favorite fruit!\"\n",
    "\n",
    "- Convert the string in lower case\n",
    "- Count the number of occurrences of \"apple\"\n",
    "- Find the index of the first occurrence of \"apple\"\n",
    "- Check if all the characters in the string are in the alphabet "
   ]
  },
  {
   "cell_type": "code",
   "execution_count": null,
   "id": "f6ea53d9-8570-4509-a4de-3e37f0d45397",
   "metadata": {},
   "outputs": [],
   "source": [
    "..."
   ]
  },
  {
   "cell_type": "markdown",
   "id": "50494976-a82f-4279-a6fa-7921e9206b84",
   "metadata": {},
   "source": [
    "## Branching"
   ]
  },
  {
   "cell_type": "markdown",
   "id": "ccc96d3c-f3d7-4ca1-a69d-26a499f80e47",
   "metadata": {},
   "source": [
    "**Exercise 0**\n",
    "\n",
    "Write a python program that reads in input a number and check whether it higher than 100"
   ]
  },
  {
   "cell_type": "code",
   "execution_count": null,
   "id": "b4d1be78-8999-406d-9ec8-da44d8a445de",
   "metadata": {},
   "outputs": [],
   "source": [
    "..."
   ]
  },
  {
   "cell_type": "markdown",
   "id": "b7bb27ce-84c6-4289-93b5-d070095a0c53",
   "metadata": {},
   "source": [
    "**Exercise 1**\n",
    "\n",
    "Write a python program that reads in input a string and check if it ends with the letter \"e\""
   ]
  },
  {
   "cell_type": "code",
   "execution_count": null,
   "id": "d62adb5f-5551-42da-a0c4-fe47900d14c7",
   "metadata": {},
   "outputs": [],
   "source": [
    "..."
   ]
  },
  {
   "cell_type": "markdown",
   "id": "af6474d1-7d31-41c6-9d21-a69249975da2",
   "metadata": {},
   "source": [
    "**Exercise 2**\n",
    "\n",
    "Write a python program that reads in input a number and check whether it is in the range [100; 300["
   ]
  },
  {
   "cell_type": "code",
   "execution_count": null,
   "id": "55fa48bd-7a8c-4c5f-b43f-8a954d828ad3",
   "metadata": {},
   "outputs": [],
   "source": []
  },
  {
   "cell_type": "markdown",
   "id": "7f0a9502-0959-4359-95b1-9d9c7580d2fe",
   "metadata": {},
   "source": [
    "**Exercise 3**\n",
    "\n",
    "Write a python program that reads in input a number and check whether it is in the range [100; 300[ or [500; 600["
   ]
  },
  {
   "cell_type": "code",
   "execution_count": null,
   "id": "68f052cb-d01c-40c7-bdd0-11134695599c",
   "metadata": {},
   "outputs": [],
   "source": []
  },
  {
   "cell_type": "markdown",
   "id": "1a49a5c0-99f6-42fa-9369-dc95041dabfe",
   "metadata": {},
   "source": [
    "**Exercise 4**\n",
    "\n",
    "Write a python program that reads in input a string 'm' and checks if its length is a multiple of 10"
   ]
  },
  {
   "cell_type": "code",
   "execution_count": null,
   "id": "cefe15ae-4cc7-4ee5-9550-ed88af134ce9",
   "metadata": {},
   "outputs": [],
   "source": []
  },
  {
   "cell_type": "markdown",
   "id": "eafe64c7-42a1-4dea-ac61-4c9af2e24f59",
   "metadata": {},
   "source": [
    "## Looping"
   ]
  },
  {
   "cell_type": "markdown",
   "id": "1c493148-37f0-42f5-bcbf-1bdc501e4b6b",
   "metadata": {},
   "source": [
    "**Exercise 0**\n",
    "\n",
    "Write a python program that prints the number from 0 to n (use both for cycle and while cycle)"
   ]
  },
  {
   "cell_type": "code",
   "execution_count": null,
   "id": "275352e5-5999-48c0-af33-5fceffafcd2f",
   "metadata": {},
   "outputs": [],
   "source": [
    "..."
   ]
  },
  {
   "cell_type": "markdown",
   "id": "bc4e2c30-97f5-4b94-a3fd-6a67008c2944",
   "metadata": {},
   "source": [
    "**Exercise 1**\n",
    "\n",
    "Write a python program that computes the sum of the first n even numbers (use both for cycle and while cycle)"
   ]
  },
  {
   "cell_type": "code",
   "execution_count": null,
   "id": "b0ab3a51-446c-4891-b497-ac5ebce1d3e4",
   "metadata": {},
   "outputs": [],
   "source": [
    "..."
   ]
  },
  {
   "cell_type": "markdown",
   "id": "54fc14fe-a974-4d0f-8c25-e8ee59a1e144",
   "metadata": {},
   "source": [
    "**Exercise 2**\n",
    "\n",
    "Write a python program that counts the number of vowels in a given string (use both for cycle and while cycle)"
   ]
  },
  {
   "cell_type": "code",
   "execution_count": null,
   "id": "d6bd9be3-b255-4c5e-b683-a3e1df5fa8e2",
   "metadata": {},
   "outputs": [],
   "source": []
  },
  {
   "cell_type": "markdown",
   "id": "8328ae2f-e59e-445c-8e77-a025585312b5",
   "metadata": {},
   "source": [
    "## Functions"
   ]
  },
  {
   "cell_type": "markdown",
   "id": "ef1d278b-4559-4272-9d52-6b817cd99d86",
   "metadata": {},
   "source": [
    "**Exercise 0**\n",
    "\n",
    "Write a python function called 'greetings' that takes in input a name and returns the string \"Hello, name!\"\n",
    "\n",
    "For example, greetings(\"Angelo\") should return \"Hello, Angelo!\""
   ]
  },
  {
   "cell_type": "code",
   "execution_count": null,
   "id": "ed76a5e2-f528-435a-8dd8-62a731503af2",
   "metadata": {},
   "outputs": [],
   "source": [
    "..."
   ]
  },
  {
   "cell_type": "markdown",
   "id": "b3911c56-6bae-4de6-a36f-997741fb358f",
   "metadata": {},
   "source": [
    "**Exercise 1**\n",
    "\n",
    "Write a python function that takes in input two numbers 'a' and 'b' and returns $\\frac{a}{b}$"
   ]
  },
  {
   "cell_type": "code",
   "execution_count": null,
   "id": "d6b250cd-6790-4597-a48a-fe951150834a",
   "metadata": {},
   "outputs": [],
   "source": [
    "..."
   ]
  },
  {
   "cell_type": "markdown",
   "id": "17bece85-0a2e-493d-bb78-80e9e4082891",
   "metadata": {},
   "source": [
    "**Exercise 2**\n",
    "\n",
    "Write a python function that takes in input a number 'a' and checks if it is a prime number"
   ]
  },
  {
   "cell_type": "code",
   "execution_count": null,
   "id": "63474a74-4ce4-4fa9-8b0e-e0768ccf64d5",
   "metadata": {},
   "outputs": [],
   "source": [
    "..."
   ]
  },
  {
   "cell_type": "markdown",
   "id": "bbd44c88-a325-4a42-af9c-adcfb32fd558",
   "metadata": {},
   "source": [
    "**Exercise 3**\n",
    "\n",
    "Write a python function called 'substring' that takes as input a string 's', the start index 'start', the end index 'end' and returns the corresponding substring of 's'"
   ]
  },
  {
   "cell_type": "code",
   "execution_count": null,
   "id": "ff73b727-9686-4856-a448-31440ea2d832",
   "metadata": {},
   "outputs": [],
   "source": [
    "def substring(s, start, end):\n",
    "    pass"
   ]
  },
  {
   "cell_type": "markdown",
   "id": "277e88e6-c85e-4043-b53f-cc0f72ec46bd",
   "metadata": {},
   "source": [
    "**Exercise 4**\n",
    "\n",
    "Write a python function called 'count' that takes as input a string 's' and a letter 'l' and count the occurrences of 'l' in 's'"
   ]
  },
  {
   "cell_type": "code",
   "execution_count": null,
   "id": "622b7a7d-00c8-4d12-9aee-64e40e9bf799",
   "metadata": {},
   "outputs": [],
   "source": [
    "..."
   ]
  },
  {
   "cell_type": "markdown",
   "id": "bcc540bd-7d5e-468d-9b46-5005cdc1aa35",
   "metadata": {},
   "source": [
    "**Exercise 5**\n",
    "\n",
    "Write a python function that takes as input a string and checks whether it is a palindrome"
   ]
  },
  {
   "cell_type": "code",
   "execution_count": null,
   "id": "36944f44-a1c8-4df5-89e8-14e2ee9d6e1a",
   "metadata": {},
   "outputs": [],
   "source": [
    "..."
   ]
  },
  {
   "cell_type": "markdown",
   "id": "7ed200df-c9be-41c3-a764-1ab4533e2dae",
   "metadata": {},
   "source": [
    "**Exercise 6**\n",
    "\n",
    "Write a python function that takes as input two numbers 'a' and 'b' and computes the Greatest Common Divisor"
   ]
  },
  {
   "cell_type": "code",
   "execution_count": null,
   "id": "325ae409-6345-4bb8-9304-81f4b0659fd5",
   "metadata": {},
   "outputs": [],
   "source": [
    "..."
   ]
  },
  {
   "cell_type": "markdown",
   "id": "c914aa90-a466-4d75-b197-b0e5c34ad342",
   "metadata": {},
   "source": [
    "**Exercise 7**\n",
    "\n",
    "Write a python function that takes as input two numbers 'a' and 'b' and computes the Least Common Multiple"
   ]
  },
  {
   "cell_type": "code",
   "execution_count": null,
   "id": "aa92bb1d-6166-479d-805c-e7330755d078",
   "metadata": {},
   "outputs": [],
   "source": [
    "..."
   ]
  },
  {
   "cell_type": "markdown",
   "id": "a34b20db-0141-44aa-875b-e326ef649d28",
   "metadata": {},
   "source": [
    "**Exercise 8**\n",
    "\n",
    "Write a python function that takes as input a list of strings and returns the index of the first string that is a palindrome (re-use the function implemented in the exercise 5)"
   ]
  },
  {
   "cell_type": "code",
   "execution_count": null,
   "id": "8ca7cb91-659a-44c7-9a4e-808c6492aa56",
   "metadata": {},
   "outputs": [],
   "source": [
    "..."
   ]
  },
  {
   "cell_type": "markdown",
   "id": "fe415fcb-e919-4ff2-866b-31cee6cd205d",
   "metadata": {},
   "source": [
    "**Exercise 9**\n",
    "\n",
    "Write a python function that takes as input two numbers and checks whether they are [coprime](https://en.wikipedia.org/wiki/Coprime_integers)"
   ]
  },
  {
   "cell_type": "code",
   "execution_count": null,
   "id": "e292ba70-3b4b-4bb2-8795-55e1a3c6cb06",
   "metadata": {},
   "outputs": [],
   "source": [
    "..."
   ]
  },
  {
   "cell_type": "markdown",
   "id": "3072c89f-1d86-4efa-a44a-4f403e48d1b5",
   "metadata": {},
   "source": [
    "**Exercise 10 (advanced)** \n",
    "\n",
    "Write a function that takes an input string and encrypts it using the [Caesar cipher](https://en.wikipedia.org/wiki/Caesar_cipher)\n",
    "\n",
    "*hint*: take a look at their representation in ASCII format"
   ]
  },
  {
   "cell_type": "code",
   "execution_count": null,
   "id": "28dfe48f-23a9-4fd5-96da-f687a1f7c6d3",
   "metadata": {},
   "outputs": [],
   "source": [
    "..."
   ]
  },
  {
   "cell_type": "markdown",
   "id": "4eafc04a-3140-41ef-be78-73a0e6d5cdb9",
   "metadata": {},
   "source": [
    "## Lamba functions"
   ]
  },
  {
   "cell_type": "markdown",
   "id": "c445aa46-0440-454b-845c-eac01e418c64",
   "metadata": {},
   "source": [
    "**Exercise 0**\n",
    "\n",
    "Write the three following lambda functions:\n",
    "- 's' takes as input two numbers and returns the sum\n",
    "- 'p' takes as input two numbers and returns the product\n",
    "- 'd' takes ad input two numbers ad returns the floor division"
   ]
  },
  {
   "cell_type": "code",
   "execution_count": null,
   "id": "c2db1135-80a1-447b-90ab-b1131b622785",
   "metadata": {},
   "outputs": [],
   "source": [
    "..."
   ]
  },
  {
   "cell_type": "markdown",
   "id": "be615209-8d40-4f46-801a-c4c2067bb80b",
   "metadata": {},
   "source": [
    "**Exercise 1**\n",
    "\n",
    "Write a python function called 'transform' that takes as input a list of integers 'l' and a lambda function 'f'. It must apply the function 'f' to each element of the source list 'l' and return the corresponding list.\n",
    "\n",
    "For example: l = [1,2,3,4] and f(x) = x + 10 --> [11, 12, 13, 14]\n"
   ]
  },
  {
   "cell_type": "code",
   "execution_count": null,
   "id": "90a80787-9e54-44f9-b924-7833541b5dcf",
   "metadata": {},
   "outputs": [],
   "source": [
    "..."
   ]
  },
  {
   "cell_type": "markdown",
   "id": "6be7e1b0-4274-4f8e-b005-b54242e75d67",
   "metadata": {},
   "source": [
    "**Exercise 2**\n",
    "\n",
    "Write a python function called 'select' that takes as input a list of integers 'l' and a lambda function 'f' that express a boolean condition. It must return a list consisting of the elements of 'l' that satisfy the condition expressed by 'f'.\n",
    "\n",
    "For example: l = [1, 4, 10, 20] and f(x) = x > 9 --> [10, 20]"
   ]
  },
  {
   "cell_type": "code",
   "execution_count": null,
   "id": "14f89f39-0f65-45eb-9923-271d467b5981",
   "metadata": {},
   "outputs": [],
   "source": [
    "..."
   ]
  },
  {
   "cell_type": "markdown",
   "id": "389ea3ed-1929-4e53-8707-af4b20a527b6",
   "metadata": {},
   "source": [
    "## Recursion"
   ]
  },
  {
   "cell_type": "markdown",
   "id": "b2630c9e-e7e5-4207-9e3e-45283f59ba08",
   "metadata": {},
   "source": [
    "**Exercise 1**\n",
    "\n",
    "Write a recursive python function that takes as input an integer 'n' and returns the factorial of n"
   ]
  },
  {
   "cell_type": "code",
   "execution_count": null,
   "id": "888f12cb-51ed-49f8-87f4-a1789862ae83",
   "metadata": {},
   "outputs": [],
   "source": [
    "..."
   ]
  },
  {
   "cell_type": "markdown",
   "id": "ef7d3d2c-f950-48b9-b6d6-2f0a844f4b5f",
   "metadata": {},
   "source": [
    "**Exercise 2**\n",
    "\n",
    "Write a recursive python function that takes as input an integer 'n' and returns the n-th number of the fibonacci sequence"
   ]
  },
  {
   "cell_type": "code",
   "execution_count": null,
   "id": "1fb45f56-661e-42c5-b2d6-852786511bcb",
   "metadata": {},
   "outputs": [],
   "source": [
    "..."
   ]
  }
 ],
 "metadata": {
  "kernelspec": {
   "display_name": "Python 3 (ipykernel)",
   "language": "python",
   "name": "python3"
  },
  "language_info": {
   "codemirror_mode": {
    "name": "ipython",
    "version": 3
   },
   "file_extension": ".py",
   "mimetype": "text/x-python",
   "name": "python",
   "nbconvert_exporter": "python",
   "pygments_lexer": "ipython3",
   "version": "3.11.6"
  }
 },
 "nbformat": 4,
 "nbformat_minor": 5
}
